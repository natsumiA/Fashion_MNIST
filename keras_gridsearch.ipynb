{
  "nbformat": 4,
  "nbformat_minor": 5,
  "metadata": {
    "kernelspec": {
      "display_name": "Python 3 (ipykernel)",
      "language": "python",
      "name": "python3"
    },
    "language_info": {
      "codemirror_mode": {
        "name": "ipython",
        "version": 3
      },
      "file_extension": ".py",
      "mimetype": "text/x-python",
      "name": "python",
      "nbconvert_exporter": "python",
      "pygments_lexer": "ipython3",
      "version": "3.7.11"
    },
    "colab": {
      "name": "keras_gridsearch.ipynb",
      "provenance": [],
      "include_colab_link": true
    }
  },
  "cells": [
    {
      "cell_type": "markdown",
      "metadata": {
        "id": "view-in-github",
        "colab_type": "text"
      },
      "source": [
        "<a href=\"https://colab.research.google.com/github/natsumiA/Fashion_MNIST/blob/main/keras_gridsearch.ipynb\" target=\"_parent\"><img src=\"https://colab.research.google.com/assets/colab-badge.svg\" alt=\"Open In Colab\"/></a>"
      ]
    },
    {
      "cell_type": "code",
      "metadata": {
        "colab": {
          "base_uri": "https://localhost:8080/"
        },
        "id": "NXQPpQXF4mgb",
        "outputId": "4f155d63-8e49-488a-cbc1-b02672f0e14d"
      },
      "source": [
        "!pip install scikeras"
      ],
      "id": "NXQPpQXF4mgb",
      "execution_count": 170,
      "outputs": [
        {
          "output_type": "stream",
          "name": "stdout",
          "text": [
            "Requirement already satisfied: scikeras in /usr/local/lib/python3.9/site-packages (0.6.0)\n",
            "Requirement already satisfied: packaging<22.0,>=0.21 in /usr/local/lib/python3.9/site-packages (from scikeras) (21.3)\n",
            "Requirement already satisfied: scikit-learn>=1.0.0 in /usr/local/lib/python3.9/site-packages (from scikeras) (1.0.1)\n",
            "Requirement already satisfied: pyparsing!=3.0.5,>=2.0.2 in /usr/local/lib/python3.9/site-packages (from packaging<22.0,>=0.21->scikeras) (3.0.6)\n",
            "Requirement already satisfied: scipy>=1.1.0 in /usr/local/lib/python3.9/site-packages (from scikit-learn>=1.0.0->scikeras) (1.6.2)\n",
            "Requirement already satisfied: numpy>=1.14.6 in /usr/local/lib/python3.9/site-packages (from scikit-learn>=1.0.0->scikeras) (1.21.2)\n",
            "Requirement already satisfied: threadpoolctl>=2.0.0 in /usr/local/lib/python3.9/site-packages (from scikit-learn>=1.0.0->scikeras) (3.0.0)\n",
            "Requirement already satisfied: joblib>=0.11 in /usr/local/lib/python3.9/site-packages (from scikit-learn>=1.0.0->scikeras) (1.1.0)\n",
            "\u001b[33mWARNING: Running pip as the 'root' user can result in broken permissions and conflicting behaviour with the system package manager. It is recommended to use a virtual environment instead: https://pip.pypa.io/warnings/venv\u001b[0m\n"
          ]
        }
      ]
    },
    {
      "cell_type": "code",
      "metadata": {
        "id": "35ecbfa5"
      },
      "source": [
        "import keras\n",
        "import tensorflow as tf\n",
        "from tensorflow.keras import datasets, layers, models, utils\n",
        "from keras.models import Sequential\n",
        "from keras.layers import Dense, Dropout, Activation, Flatten\n",
        "from keras.layers import Conv2D, MaxPooling2D\n",
        "from keras.wrappers.scikit_learn import KerasClassifier\n",
        "from keras import backend as K\n",
        "from sklearn.model_selection import GridSearchCV, KFold"
      ],
      "id": "35ecbfa5",
      "execution_count": 171,
      "outputs": []
    },
    {
      "cell_type": "code",
      "metadata": {
        "id": "b494da35"
      },
      "source": [
        "num_classes = 10\n",
        "img_rows, img_cols = 28, 28\n",
        "image_size = 28"
      ],
      "id": "b494da35",
      "execution_count": 172,
      "outputs": []
    },
    {
      "cell_type": "code",
      "metadata": {
        "id": "a1aef7d2"
      },
      "source": [
        "fashion_mnist = tf.keras.datasets.fashion_mnist\n",
        "(x_train, y_train), (x_test, y_test) = fashion_mnist.load_data()"
      ],
      "id": "a1aef7d2",
      "execution_count": 173,
      "outputs": []
    },
    {
      "cell_type": "code",
      "metadata": {
        "id": "a930d890"
      },
      "source": [
        "if K.image_data_format() == 'channels_first':\n",
        "    x_train = x_train.reshape(x_train.shape[0], 1, img_rows, img_cols)\n",
        "    x_test = x_test .reshape(x_test.shape[0], 1, img_rows, img_cols)\n",
        "    input_shape = (1, img_rows, img_cols)\n",
        "else:\n",
        "    x_train = x_train.reshape(x_train.shape[0], img_rows, img_cols, 1)\n",
        "    x_test = x_test.reshape(x_test.shape[0], img_rows, img_cols, 1)\n",
        "    input_shape = (img_rows, img_cols, 1)"
      ],
      "id": "a930d890",
      "execution_count": 174,
      "outputs": []
    },
    {
      "cell_type": "code",
      "metadata": {
        "id": "52fb8338"
      },
      "source": [
        "x_train = x_train.astype('float32')\n",
        "x_test = x_test.astype('float32')\n",
        "x_train /= 255\n",
        "x_test /=255"
      ],
      "id": "52fb8338",
      "execution_count": 175,
      "outputs": []
    },
    {
      "cell_type": "code",
      "metadata": {
        "id": "8c984f0b"
      },
      "source": [
        "y_train = keras.utils.np_utils.to_categorical(y_train, num_classes)\n",
        "y_test = keras.utils.np_utils.to_categorical(y_test, num_classes)"
      ],
      "id": "8c984f0b",
      "execution_count": 176,
      "outputs": []
    },
    {
      "cell_type": "code",
      "metadata": {
        "id": "eUL8TMXguX8_",
        "colab": {
          "base_uri": "https://localhost:8080/"
        },
        "outputId": "d1b3aed8-0911-46d1-f37b-67edcecc845b"
      },
      "source": [
        "input_shape"
      ],
      "id": "eUL8TMXguX8_",
      "execution_count": 177,
      "outputs": [
        {
          "output_type": "execute_result",
          "data": {
            "text/plain": [
              "(28, 28, 1)"
            ]
          },
          "metadata": {},
          "execution_count": 177
        }
      ]
    },
    {
      "cell_type": "code",
      "metadata": {
        "id": "da3e5430"
      },
      "source": [
        "def make_model(num_layer, activation, mid_units, num_filters, dropout_rate, optimizer):\n",
        "\n",
        "    model = Sequential()\n",
        "    model.add(Conv2D(int(num_filters[0]), 3, padding='same', input_shape=input_shape))\n",
        "    model.add(Activation(activation))\n",
        "    \n",
        "    for i in range(1, num_layer):\n",
        "        model.add(Conv2D(int(num_filters[i]), 3))\n",
        "        model.add(Activation(activation))\n",
        "        \n",
        "    model.add(MaxPooling2D(pool_size=(2, 2)))\n",
        "    model.add(Dropout(dropout_rate))\n",
        "    \n",
        "    model.add(Flatten())\n",
        "    \n",
        "    model.add(Dense(mid_units))\n",
        "    model.add(Activation(activation))\n",
        "    model.add(Dense(10))\n",
        "    model.add(Activation('softmax'))\n",
        "    \n",
        "    model.compile(loss=\"categorical_crossentropy\", optimizer=\"adadelta\", metrics=[\"accuracy\"])\n",
        "    return model"
      ],
      "id": "da3e5430",
      "execution_count": 178,
      "outputs": []
    },
    {
      "cell_type": "code",
      "metadata": {
        "colab": {
          "base_uri": "https://localhost:8080/"
        },
        "id": "PgveJg-5iEKK",
        "outputId": "e07ae8a7-da6d-42fc-fc07-f51c558b7be4"
      },
      "source": [
        "\n",
        "x_train.shape"
      ],
      "id": "PgveJg-5iEKK",
      "execution_count": 179,
      "outputs": [
        {
          "output_type": "execute_result",
          "data": {
            "text/plain": [
              "(60000, 28, 28, 1)"
            ]
          },
          "metadata": {},
          "execution_count": 179
        }
      ]
    },
    {
      "cell_type": "code",
      "metadata": {
        "colab": {
          "base_uri": "https://localhost:8080/"
        },
        "id": "1eb1ee6b",
        "outputId": "bad6f62d-f76a-4f18-c75c-6921f25219d9"
      },
      "source": [
        "my_classifier = KerasClassifier(make_model, batch_size=128)\n",
        "validator = GridSearchCV(my_classifier,\n",
        "                         param_grid={\n",
        "                                     'num_layer' : [3, 5],\n",
        "                                     'mid_units' : [300, 500, 10] ,\n",
        "                                     'num_filters' : [(str(i), '16', '128', '16') for i in range(5)],\n",
        "                                     'activation' : [\"relu\", \"sigmoid\"],\n",
        "                                     'dropout_rate' : [0.0, 1.0],\n",
        "                                     'optimizer':[\"sgd\", \"adam\", \"rmsprop\"]},\n",
        "                         scoring=\"neg_log_loss\", \n",
        "                         n_jobs=1)\n",
        "    \n",
        "validator.fit(x_train, y_train)\n",
        "\n",
        "print('The parameters of the best model are: ')\n",
        "print(validator.best_params_)"
      ],
      "id": "1eb1ee6b",
      "execution_count": null,
      "outputs": [
        {
          "metadata": {
            "tags": null
          },
          "name": "stderr",
          "output_type": "stream",
          "text": [
            "/usr/local/lib/python3.7/dist-packages/ipykernel_launcher.py:1: DeprecationWarning: KerasClassifier is deprecated, use Sci-Keras (https://github.com/adriangb/scikeras) instead.\n",
            "  \"\"\"Entry point for launching an IPython kernel.\n"
          ]
        },
        {
          "output_type": "stream",
          "name": "stdout",
          "text": [
            "375/375 [==============================] - 162s 430ms/step - loss: 2.2338 - accuracy: 0.3801\n",
            "375/375 [==============================] - 171s 454ms/step - loss: 2.2723 - accuracy: 0.3738\n",
            "375/375 [==============================] - 157s 418ms/step - loss: 2.2929 - accuracy: 0.2337\n",
            "375/375 [==============================] - 169s 450ms/step - loss: 2.2955 - accuracy: 0.1136\n",
            "375/375 [==============================] - 173s 460ms/step - loss: 2.2718 - accuracy: 0.1968\n",
            "375/375 [==============================] - 171s 454ms/step - loss: 2.3022 - accuracy: 0.1948\n",
            "375/375 [==============================] - 169s 448ms/step - loss: 2.1517 - accuracy: 0.3645\n",
            "375/375 [==============================] - 166s 441ms/step - loss: 2.3025 - accuracy: 0.1395\n",
            "375/375 [==============================] - 164s 436ms/step - loss: 2.3023 - accuracy: 0.0860\n",
            "375/375 [==============================] - 170s 451ms/step - loss: 2.2735 - accuracy: 0.2908\n",
            "375/375 [==============================] - 167s 443ms/step - loss: 2.2954 - accuracy: 0.2520\n",
            "375/375 [==============================] - 164s 437ms/step - loss: 2.2138 - accuracy: 0.3286\n",
            "375/375 [==============================] - 168s 447ms/step - loss: 2.3021 - accuracy: 0.1857\n",
            "375/375 [==============================] - 172s 457ms/step - loss: 2.1858 - accuracy: 0.3306\n",
            "375/375 [==============================] - 172s 458ms/step - loss: 2.1772 - accuracy: 0.2943\n",
            "375/375 [==============================] - 174s 462ms/step - loss: 2.1780 - accuracy: 0.3993\n",
            "375/375 [==============================] - 166s 442ms/step - loss: 2.2876 - accuracy: 0.1920\n",
            "375/375 [==============================] - 172s 458ms/step - loss: 2.2993 - accuracy: 0.2027\n",
            "375/375 [==============================] - 170s 452ms/step - loss: 2.2757 - accuracy: 0.2817\n",
            "375/375 [==============================] - 167s 444ms/step - loss: 2.2762 - accuracy: 0.2891\n",
            "375/375 [==============================] - 164s 436ms/step - loss: 2.2934 - accuracy: 0.2256\n",
            "375/375 [==============================] - 162s 431ms/step - loss: 2.2806 - accuracy: 0.2257\n",
            "375/375 [==============================] - 173s 459ms/step - loss: 2.2675 - accuracy: 0.2225\n",
            "375/375 [==============================] - 164s 435ms/step - loss: 2.2172 - accuracy: 0.3328\n",
            "375/375 [==============================] - 167s 443ms/step - loss: 2.2948 - accuracy: 0.1673\n",
            "375/375 [==============================] - 162s 432ms/step - loss: 2.2989 - accuracy: 0.1998\n",
            "375/375 [==============================] - 169s 448ms/step - loss: 2.2936 - accuracy: 0.1242\n",
            "375/375 [==============================] - 167s 445ms/step - loss: 2.2721 - accuracy: 0.2078\n",
            "375/375 [==============================] - 163s 434ms/step - loss: 2.2662 - accuracy: 0.1943\n",
            "375/375 [==============================] - 161s 429ms/step - loss: 2.2866 - accuracy: 0.2933\n",
            "375/375 [==============================] - 164s 435ms/step - loss: 2.2955 - accuracy: 0.2081\n",
            "375/375 [==============================] - 168s 445ms/step - loss: 2.3017 - accuracy: 0.1383\n",
            "375/375 [==============================] - 171s 455ms/step - loss: 2.2371 - accuracy: 0.3263\n",
            "375/375 [==============================] - 166s 442ms/step - loss: 2.2607 - accuracy: 0.2701\n",
            "375/375 [==============================] - 164s 436ms/step - loss: 2.2942 - accuracy: 0.2089\n",
            "375/375 [==============================] - 163s 433ms/step - loss: 2.3002 - accuracy: 0.1373\n",
            "375/375 [==============================] - 166s 442ms/step - loss: 2.2526 - accuracy: 0.3790\n",
            "375/375 [==============================] - 167s 441ms/step - loss: 2.2560 - accuracy: 0.3205\n",
            "375/375 [==============================] - 169s 450ms/step - loss: 2.2922 - accuracy: 0.2201\n",
            "375/375 [==============================] - 161s 429ms/step - loss: 2.2931 - accuracy: 0.1880\n",
            "375/375 [==============================] - 163s 433ms/step - loss: 2.2048 - accuracy: 0.3654\n",
            "375/375 [==============================] - 162s 430ms/step - loss: 2.2572 - accuracy: 0.2447\n",
            "375/375 [==============================] - 163s 433ms/step - loss: 2.2828 - accuracy: 0.2271\n",
            "375/375 [==============================] - 168s 448ms/step - loss: 2.2575 - accuracy: 0.2580\n",
            "375/375 [==============================] - 171s 454ms/step - loss: 2.2806 - accuracy: 0.2651\n",
            "375/375 [==============================] - 176s 468ms/step - loss: 2.1434 - accuracy: 0.3578\n",
            "375/375 [==============================] - 176s 469ms/step - loss: 2.2185 - accuracy: 0.3814\n",
            "375/375 [==============================] - 167s 444ms/step - loss: 2.2650 - accuracy: 0.2036\n",
            "375/375 [==============================] - 171s 454ms/step - loss: 2.2294 - accuracy: 0.4524\n",
            "375/375 [==============================] - 170s 451ms/step - loss: 2.2506 - accuracy: 0.4060\n",
            "375/375 [==============================] - 174s 461ms/step - loss: 2.2978 - accuracy: 0.1409\n",
            "375/375 [==============================] - 170s 452ms/step - loss: 2.2201 - accuracy: 0.4456\n",
            "375/375 [==============================] - 173s 459ms/step - loss: 2.2598 - accuracy: 0.2546\n",
            "375/375 [==============================] - 172s 457ms/step - loss: 2.2473 - accuracy: 0.3244\n",
            "375/375 [==============================] - 172s 457ms/step - loss: 2.2997 - accuracy: 0.1744\n",
            "375/375 [==============================] - 173s 459ms/step - loss: 2.2783 - accuracy: 0.2526\n",
            "375/375 [==============================] - 175s 465ms/step - loss: 2.2681 - accuracy: 0.2344\n",
            "375/375 [==============================] - 168s 444ms/step - loss: 2.2293 - accuracy: 0.3511\n",
            "375/375 [==============================] - 170s 451ms/step - loss: 2.2816 - accuracy: 0.3026\n",
            "375/375 [==============================] - 167s 444ms/step - loss: 2.1165 - accuracy: 0.4913\n",
            "375/375 [==============================] - 198s 526ms/step - loss: 2.3016 - accuracy: 0.2221\n",
            "375/375 [==============================] - 204s 543ms/step - loss: 2.2926 - accuracy: 0.1963\n",
            "375/375 [==============================] - 208s 552ms/step - loss: 2.2994 - accuracy: 0.1563\n",
            "245/375 [==================>...........] - ETA: 1:12 - loss: 2.3024 - accuracy: 0.1012"
          ]
        }
      ]
    },
    {
      "cell_type": "code",
      "metadata": {
        "id": "aKcUyjaupmQS"
      },
      "source": [
        ""
      ],
      "id": "aKcUyjaupmQS",
      "execution_count": null,
      "outputs": []
    },
    {
      "cell_type": "code",
      "metadata": {
        "id": "ef1b6a37"
      },
      "source": [
        "'best_model = validator.best_estimator_.model\n",
        "metric_names = best_model.metrics_names\n",
        "metric_values = best_model.evaluate(x_test, y_test)\n",
        "for metric, value in zip(metric_names, metric_values):\n",
        "    print(metric, ': ', value)"
      ],
      "id": "ef1b6a37",
      "execution_count": null,
      "outputs": []
    },
    {
      "cell_type": "code",
      "metadata": {
        "id": "8eab4aee"
      },
      "source": [
        "import os\n",
        "yaml_string = best_model.to_yaml()\n",
        "open(os.path.join('opt/app/','keras_gridsearch.yaml'), 'w').write(yaml_string)\n",
        "print('save weights')\n",
        "best_model.save_weights(os.path.join('opt/app/','keras_gridsearch.hdf5'))"
      ],
      "id": "8eab4aee",
      "execution_count": null,
      "outputs": []
    },
    {
      "cell_type": "code",
      "metadata": {
        "id": "8ac40aae"
      },
      "source": [
        ""
      ],
      "id": "8ac40aae",
      "execution_count": null,
      "outputs": []
    },
    {
      "cell_type": "code",
      "metadata": {
        "id": "050f84b6"
      },
      "source": [
        ""
      ],
      "id": "050f84b6",
      "execution_count": null,
      "outputs": []
    }
  ]
}