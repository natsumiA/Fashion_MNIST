{
 "cells": [
  {
   "cell_type": "code",
   "execution_count": 222,
   "id": "9382ee6a",
   "metadata": {},
   "outputs": [],
   "source": [
    "from collections import defaultdict\n",
    "\n",
    "import matplotlib.pyplot as plt\n",
    "import numpy as np\n",
    "import torch\n",
    "import torch.nn as nn\n",
    "import torchvision\n",
    "import torchvision.datasets as datasets\n",
    "import torchvision.transforms as transforms\n",
    "from torch.autograd import Variable"
   ]
  },
  {
   "cell_type": "code",
   "execution_count": 223,
   "id": "2e9ee030",
   "metadata": {},
   "outputs": [],
   "source": [
    "root = '/Users/n.arai'"
   ]
  },
  {
   "cell_type": "code",
   "execution_count": 224,
   "id": "2fd4fff7",
   "metadata": {},
   "outputs": [
    {
     "data": {
      "text/plain": [
       "Dataset FashionMNIST\n",
       "    Number of datapoints: 60000\n",
       "    Root location: /Users/n.arai\n",
       "    Split: Train"
      ]
     },
     "execution_count": 224,
     "metadata": {},
     "output_type": "execute_result"
    }
   ],
   "source": [
    "torchvision.datasets.FashionMNIST(root, train=True, transform=None, download=False)"
   ]
  },
  {
   "cell_type": "code",
   "execution_count": 225,
   "id": "0d5503c7",
   "metadata": {},
   "outputs": [],
   "source": [
    "data_transform = transforms.ToTensor()\n",
    "\n",
    "train_dataset = datasets.FashionMNIST(root=\"dataset\", train=True, transform=data_transform, download=True)\n",
    "\n",
    "train_data_loader = torch.utils.data.DataLoader(train_dataset, batch_size=32,shuffle=True)\n",
    "\n",
    "test_dataset = datasets.FashionMNIST(root=\"datasets\", train=False, transform=data_transform,download=True)\n",
    "\n",
    "test_data_loader = torch.utils.data.DataLoader(test_dataset, batch_size=100,shuffle=True)"
   ]
  },
  {
   "cell_type": "code",
   "execution_count": 226,
   "id": "ffe4091e",
   "metadata": {},
   "outputs": [
    {
     "data": {
      "image/png": "[encoded data removed]",
      "text/plain": [
       "<Figure size 720x288 with 10 Axes>"
      ]
     },
     "metadata": {
      "needs_background": "light"
     },
     "output_type": "display_data"
    }
   ],
   "source": [
    "class_ids, sample_indices = np.unique(train_dataset.targets, return_index=True)\n",
    "\n",
    "fig = plt.figure(figsize=(10, 4))\n",
    "fig.suptitle(\"Fashion-MNIST dataset\", fontsize=\"x-large\")\n",
    "\n",
    "for i in class_ids:\n",
    "    img = train_dataset.data[sample_indices[i]]\n",
    "    class_name = train_dataset.classes[i]\n",
    "\n",
    "    ax = fig.add_subplot(2, 5, i + 1)\n",
    "    ax.set_title(f\"{i}: {class_name}\")\n",
    "    ax.set_axis_off()\n",
    "    ax.imshow(img, cmap=\"gray\")\n",
    "\n",
    "plt.show()"
   ]
  },
  {
   "cell_type": "code",
   "execution_count": 227,
   "id": "7673bc2d",
   "metadata": {},
   "outputs": [
    {
     "name": "stdout",
     "output_type": "stream",
     "text": [
      "T-shirt/top               6000     Trouser                   6000     Pullover                  6000     \n",
      "Dress                     6000     Coat                      6000     Sandal                    6000     \n",
      "Shirt                     6000     Sneaker                   6000     Bag                       6000     \n",
      "Ankle boot                6000     "
     ]
    }
   ],
   "source": [
    "#クラスに対して画像が何枚あるか可視化->偏りなし\n",
    "counts = np.bincount(train_dataset.targets)\n",
    "for i, (count, name) in enumerate(zip(counts, train_dataset.classes)):\n",
    "    print(\"{0:25} {1:3}\".format(name, count), end='     ')\n",
    "    if (i + 1) % 3 == 0:\n",
    "        print()"
   ]
  },
  {
   "cell_type": "code",
   "execution_count": 228,
   "id": "4e854415",
   "metadata": {},
   "outputs": [],
   "source": [
    "class FashionMNIST_Model(nn.Module):\n",
    "    def __init__(self):\n",
    "        super().__init__()\n",
    "        self.features = nn.Sequential(\n",
    "            nn.Conv2d(1, 32, kernel_size=3, padding=1),\n",
    "            nn.ReLU(),\n",
    "            nn.MaxPool2d(kernel_size=2),\n",
    "            nn.Conv2d(32, 64, kernel_size=3, padding=1),\n",
    "            nn.ReLU(),\n",
    "            nn.MaxPool2d(kernel_size=2)\n",
    "        )\n",
    "        \n",
    "        self.classifier = nn.Sequential(\n",
    "            nn.Dropout(),\n",
    "            nn.Linear(64 * 7 * 7, 128),\n",
    "            nn.ReLU(),\n",
    "            nn.Dropout(),\n",
    "            nn.Linear(128, 10),\n",
    "        nn.LogSoftmax(dim=1))\n",
    "        \n",
    "    def forward(self, x):\n",
    "        x  = self.features(x)\n",
    "        x =  torch.flatten(x, 1)\n",
    "        x = self.classifier(x)\n",
    "            \n",
    "        return x"
   ]
  },
  {
   "cell_type": "code",
   "execution_count": 229,
   "id": "a04a5567",
   "metadata": {},
   "outputs": [],
   "source": [
    "nll_loss = nn.NLLLoss()"
   ]
  },
  {
   "cell_type": "code",
   "execution_count": 230,
   "id": "42b8f831",
   "metadata": {},
   "outputs": [],
   "source": [
    "device = torch.device(\"cuda\" if torch.cuda.is_available() else \"cpu\")\n",
    "model = FashionMNIST_Model().to(device)"
   ]
  },
  {
   "cell_type": "code",
   "execution_count": 231,
   "id": "fb49be35",
   "metadata": {},
   "outputs": [],
   "source": [
    "optim = torch.optim.Adam(model.parameters())"
   ]
  },
  {
   "cell_type": "code",
   "execution_count": 232,
   "id": "4866fd92",
   "metadata": {},
   "outputs": [],
   "source": [
    "def train(model, device, data_loader, optim):\n",
    "    model.train()\n",
    "    \n",
    "    total_loss = 0\n",
    "    total_correct = 0\n",
    "    for data, target in data_loader:\n",
    "        data, target = data.to(device), target.to(device)\n",
    "        \n",
    "        output = model(data)\n",
    "        \n",
    "        loss = nll_loss(output, target)\n",
    "        total_loss += float(loss)\n",
    "        \n",
    "        optim.zero_grad()\n",
    "        loss.backward()\n",
    "        \n",
    "        optim.step()\n",
    "        \n",
    "        pred_target = output.argmax(dim=1)\n",
    "        \n",
    "        total_correct += int((pred_target == target).sum())\n",
    "        \n",
    "    avg_loss = total_loss / len(data_loader.dataset)\n",
    "    accuracy = total_correct / len(data_loader.dataset)\n",
    "    \n",
    "    return avg_loss, accuracy"
   ]
  },
  {
   "cell_type": "code",
   "execution_count": 233,
   "id": "a6774a43",
   "metadata": {},
   "outputs": [],
   "source": [
    "def test(model, device, data_loader):\n",
    "    model.eval()\n",
    "    \n",
    "    with torch.no_grad():\n",
    "        total_loss = 0\n",
    "        total_correct = 0\n",
    "        for data, target in data_loader:\n",
    "            data, target = data.to(device), target.to(device)\n",
    "            \n",
    "            output = model(data)\n",
    "            \n",
    "            loss = nll_loss(output, target)\n",
    "            total_loss += float(loss)\n",
    "            \n",
    "            pred_target = output.argmax(dim=1)\n",
    "            \n",
    "            total_correct += int((pred_target == target).sum())\n",
    "            \n",
    "            avg_loss = total_loss / len(data_loader.dataset)\n",
    "            accuracy = total_correct / len(data_loader.dataset)\n",
    "            \n",
    "    return avg_loss, accuracy"
   ]
  },
  {
   "cell_type": "code",
   "execution_count": 234,
   "id": "19a97654",
   "metadata": {
    "scrolled": true
   },
   "outputs": [
    {
     "name": "stdout",
     "output_type": "stream",
     "text": [
      "epoch 1 [train] loss: 0.018339, accuracy: 78% [test] loss: 0.003959, accuracy: 86%\n",
      "epoch 2 [train] loss: 0.013000, accuracy: 85% [test] loss: 0.003434, accuracy: 89%\n",
      "epoch 3 [train] loss: 0.011609, accuracy: 87% [test] loss: 0.003149, accuracy: 89%\n",
      "epoch 4 [train] loss: 0.010836, accuracy: 87% [test] loss: 0.002949, accuracy: 90%\n",
      "epoch 5 [train] loss: 0.010323, accuracy: 88% [test] loss: 0.002787, accuracy: 90%\n",
      "epoch 6 [train] loss: 0.009951, accuracy: 88% [test] loss: 0.002698, accuracy: 91%\n",
      "epoch 7 [train] loss: 0.009640, accuracy: 89% [test] loss: 0.002644, accuracy: 91%\n",
      "epoch 8 [train] loss: 0.009435, accuracy: 89% [test] loss: 0.002549, accuracy: 91%\n",
      "epoch 9 [train] loss: 0.009227, accuracy: 89% [test] loss: 0.002649, accuracy: 91%\n",
      "epoch 10 [train] loss: 0.009089, accuracy: 89% [test] loss: 0.002627, accuracy: 90%\n",
      "epoch 11 [train] loss: 0.008918, accuracy: 90% [test] loss: 0.002528, accuracy: 91%\n",
      "epoch 12 [train] loss: 0.008851, accuracy: 90% [test] loss: 0.002480, accuracy: 91%\n",
      "epoch 13 [train] loss: 0.008554, accuracy: 90% [test] loss: 0.002439, accuracy: 91%\n",
      "epoch 14 [train] loss: 0.008466, accuracy: 90% [test] loss: 0.002447, accuracy: 91%\n",
      "epoch 15 [train] loss: 0.008421, accuracy: 90% [test] loss: 0.002412, accuracy: 91%\n",
      "epoch 16 [train] loss: 0.008319, accuracy: 90% [test] loss: 0.002381, accuracy: 92%\n",
      "epoch 17 [train] loss: 0.008208, accuracy: 90% [test] loss: 0.002302, accuracy: 92%\n",
      "epoch 18 [train] loss: 0.008345, accuracy: 90% [test] loss: 0.002418, accuracy: 92%\n",
      "epoch 19 [train] loss: 0.008127, accuracy: 90% [test] loss: 0.002349, accuracy: 91%\n",
      "epoch 20 [train] loss: 0.008043, accuracy: 91% [test] loss: 0.002295, accuracy: 92%\n",
      "epoch 21 [train] loss: 0.008034, accuracy: 91% [test] loss: 0.002285, accuracy: 92%\n",
      "epoch 22 [train] loss: 0.007901, accuracy: 91% [test] loss: 0.002284, accuracy: 92%\n",
      "epoch 23 [train] loss: 0.007889, accuracy: 91% [test] loss: 0.002263, accuracy: 92%\n",
      "epoch 24 [train] loss: 0.007995, accuracy: 91% [test] loss: 0.002292, accuracy: 92%\n",
      "epoch 25 [train] loss: 0.007770, accuracy: 91% [test] loss: 0.002323, accuracy: 92%\n",
      "epoch 26 [train] loss: 0.007838, accuracy: 91% [test] loss: 0.002253, accuracy: 92%\n",
      "epoch 27 [train] loss: 0.007735, accuracy: 91% [test] loss: 0.002242, accuracy: 92%\n",
      "epoch 28 [train] loss: 0.007757, accuracy: 91% [test] loss: 0.002194, accuracy: 92%\n",
      "epoch 29 [train] loss: 0.007636, accuracy: 91% [test] loss: 0.002181, accuracy: 92%\n",
      "epoch 30 [train] loss: 0.007588, accuracy: 91% [test] loss: 0.002223, accuracy: 92%\n",
      "epoch 31 [train] loss: 0.007746, accuracy: 91% [test] loss: 0.002227, accuracy: 92%\n",
      "epoch 32 [train] loss: 0.007567, accuracy: 91% [test] loss: 0.002199, accuracy: 92%\n",
      "epoch 33 [train] loss: 0.007492, accuracy: 91% [test] loss: 0.002243, accuracy: 92%\n",
      "epoch 34 [train] loss: 0.007457, accuracy: 91% [test] loss: 0.002188, accuracy: 92%\n",
      "epoch 35 [train] loss: 0.007515, accuracy: 91% [test] loss: 0.002265, accuracy: 92%\n",
      "epoch 36 [train] loss: 0.007446, accuracy: 91% [test] loss: 0.002237, accuracy: 92%\n",
      "epoch 37 [train] loss: 0.007478, accuracy: 91% [test] loss: 0.002195, accuracy: 92%\n",
      "epoch 38 [train] loss: 0.007393, accuracy: 91% [test] loss: 0.002295, accuracy: 92%\n",
      "epoch 39 [train] loss: 0.007374, accuracy: 91% [test] loss: 0.002220, accuracy: 92%\n",
      "epoch 40 [train] loss: 0.007467, accuracy: 91% [test] loss: 0.002193, accuracy: 92%\n",
      "epoch 41 [train] loss: 0.007350, accuracy: 91% [test] loss: 0.002179, accuracy: 92%\n",
      "epoch 42 [train] loss: 0.007298, accuracy: 91% [test] loss: 0.002459, accuracy: 91%\n",
      "epoch 43 [train] loss: 0.007278, accuracy: 91% [test] loss: 0.002232, accuracy: 92%\n",
      "epoch 44 [train] loss: 0.007342, accuracy: 91% [test] loss: 0.002162, accuracy: 92%\n",
      "epoch 45 [train] loss: 0.007343, accuracy: 91% [test] loss: 0.002206, accuracy: 92%\n",
      "epoch 46 [train] loss: 0.007428, accuracy: 91% [test] loss: 0.002168, accuracy: 92%\n",
      "epoch 47 [train] loss: 0.007153, accuracy: 92% [test] loss: 0.002135, accuracy: 92%\n",
      "epoch 48 [train] loss: 0.007308, accuracy: 92% [test] loss: 0.002146, accuracy: 93%\n",
      "epoch 49 [train] loss: 0.007209, accuracy: 92% [test] loss: 0.002193, accuracy: 92%\n",
      "epoch 50 [train] loss: 0.007182, accuracy: 92% [test] loss: 0.002155, accuracy: 92%\n"
     ]
    }
   ],
   "source": [
    "n_epochs = 50\n",
    "\n",
    "history = defaultdict(list)\n",
    "for epoch in range(n_epochs):\n",
    "    train_loss, train_accuracy = train(model, device, train_data_loader, optim)\n",
    "    history[\"train_loss\"].append(train_loss)\n",
    "    history[\"train_accuracy\"].append(train_accuracy)\n",
    "    \n",
    "    test_loss, test_accuracy = test(model, device, test_data_loader)\n",
    "    history[\"test_loss\"].append(test_loss)\n",
    "    history[\"test_accuracy\"].append(test_accuracy)\n",
    "    \n",
    "    print(\n",
    "        f\"epoch {epoch + 1} \"\n",
    "        f\"[train] loss: {train_loss:.6f}, accuracy: {train_accuracy:.0%} \"\n",
    "        f\"[test] loss: {test_loss:.6f}, accuracy: {test_accuracy:.0%}\"\n",
    "    )"
   ]
  },
  {
   "cell_type": "code",
   "execution_count": 235,
   "id": "50d0a240",
   "metadata": {},
   "outputs": [],
   "source": [
    "def output_label(label):\n",
    "    output_mapping = {\n",
    "                 0: \"T-shirt/Top\",\n",
    "                 1: \"Trouser\",\n",
    "                 2: \"Pullover\",\n",
    "                 3: \"Dress\",\n",
    "                 4: \"Coat\", \n",
    "                 5: \"Sandal\", \n",
    "                 6: \"Shirt\",\n",
    "                 7: \"Sneaker\",\n",
    "                 8: \"Bag\",\n",
    "                 9: \"Ankle Boot\"\n",
    "                 }\n",
    "    input = (label.item() if type(label) == torch.Tensor else label)\n",
    "    return output_mapping[input]"
   ]
  },
  {
   "cell_type": "code",
   "execution_count": 236,
   "id": "498cacb0",
   "metadata": {},
   "outputs": [
    {
     "name": "stdout",
     "output_type": "stream",
     "text": [
      "Accuracy of T-shirt/Top: 90.10%\n",
      "Accuracy of Trouser: 98.40%\n",
      "Accuracy of Pullover: 84.50%\n",
      "Accuracy of Dress: 94.40%\n",
      "Accuracy of Coat: 92.40%\n",
      "Accuracy of Sandal: 98.60%\n",
      "Accuracy of Shirt: 72.60%\n",
      "Accuracy of Sneaker: 98.60%\n",
      "Accuracy of Bag: 98.60%\n",
      "Accuracy of Ankle Boot: 95.40%\n"
     ]
    }
   ],
   "source": [
    "class_correct = [0. for _ in range(10)]\n",
    "total_correct = [0. for _ in range(10)]\n",
    "\n",
    "with torch.no_grad():\n",
    "    for images, labels in test_data_loader:\n",
    "        images, labels = images.to(device), labels.to(device)\n",
    "        test = Variable(images)\n",
    "        outputs = model(test)\n",
    "        predicted = torch.max(outputs, 1)[1]\n",
    "        c = (predicted == labels).squeeze()\n",
    "        \n",
    "        for i in range(100):\n",
    "            label = labels[i]\n",
    "            class_correct[label] += c[i].item()\n",
    "            total_correct[label] += 1\n",
    "        \n",
    "for i in range(10):\n",
    "    print(\"Accuracy of {}: {:.2f}%\".format(output_label(i), class_correct[i] * 100 / total_correct[i]))"
   ]
  },
  {
   "cell_type": "code",
   "execution_count": 237,
   "id": "5ae8d50f",
   "metadata": {},
   "outputs": [
    {
     "data": {
      "image/png": "[encoded data removed]",
      "text/plain": [
       "<Figure size 432x288 with 1 Axes>"
      ]
     },
     "metadata": {
      "needs_background": "light"
     },
     "output_type": "display_data"
    }
   ],
   "source": [
    "plt.plot(history['train_accuracy'],\"o-\",label=\"train_accuracy\")\n",
    "plt.plot(history['test_accuracy'],\"o-\",label=\"test_accuracy\")\n",
    "plt.title('model accuracy')\n",
    "plt.xlabel('epoch')\n",
    "plt.ylabel('accuracy')\n",
    "plt.legend(loc=\"lower right\")\n",
    "plt.show()"
   ]
  },
  {
   "cell_type": "code",
   "execution_count": 238,
   "id": "beed60d1",
   "metadata": {},
   "outputs": [
    {
     "data": {
      "image/png": "[encoded data removed]",
      "text/plain": [
       "<Figure size 432x288 with 1 Axes>"
      ]
     },
     "metadata": {
      "needs_background": "light"
     },
     "output_type": "display_data"
    }
   ],
   "source": [
    "plt.plot(history['train_loss'],\"o-\",label=\"train_loss\")\n",
    "plt.plot(history['test_loss'],\"o-\",label=\"test_loss\")\n",
    "plt.title('model accuracy')\n",
    "plt.xlabel('epoch')\n",
    "plt.ylabel('accuracy')\n",
    "plt.legend(loc=\"lower right\")\n",
    "plt.show()"
   ]
  },
  {
   "cell_type": "code",
   "execution_count": null,
   "id": "e9b71e0a",
   "metadata": {},
   "outputs": [],
   "source": []
  }
 ],
 "metadata": {
  "kernelspec": {
   "display_name": "Python 3 (ipykernel)",
   "language": "python",
   "name": "python3"
  },
  "language_info": {
   "codemirror_mode": {
    "name": "ipython",
    "version": 3
   },
   "file_extension": ".py",
   "mimetype": "text/x-python",
   "name": "python",
   "nbconvert_exporter": "python",
   "pygments_lexer": "ipython3",
   "version": "3.9.7"
  }
 },
 "nbformat": 4,
 "nbformat_minor": 5
}
