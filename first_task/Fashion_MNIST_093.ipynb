{
 "cells": [
  {
   "cell_type": "code",
   "execution_count": 8,
   "id": "9382ee6a",
   "metadata": {},
   "outputs": [],
   "source": [
    "from collections import defaultdict\n",
    "\n",
    "import matplotlib.pyplot as plt\n",
    "import numpy as np\n",
    "import torch\n",
    "import torch.nn as nn\n",
    "import torchvision\n",
    "import torchvision.datasets as datasets\n",
    "import torchvision.transforms as transforms"
   ]
  },
  {
   "cell_type": "code",
   "execution_count": 10,
   "id": "be816153",
   "metadata": {},
   "outputs": [],
   "source": [
    "root = '/Users/n.arai'"
   ]
  },
  {
   "cell_type": "code",
   "execution_count": 12,
   "id": "2fd4fff7",
   "metadata": {},
   "outputs": [
    {
     "name": "stdout",
     "output_type": "stream",
     "text": [
      "Downloading http://fashion-mnist.s3-website.eu-central-1.amazonaws.com/train-images-idx3-ubyte.gz\n",
      "Downloading http://fashion-mnist.s3-website.eu-central-1.amazonaws.com/train-images-idx3-ubyte.gz to /Users/n.arai/FashionMNIST/raw/train-images-idx3-ubyte.gz\n"
     ]
    },
    {
     "data": {
      "application/vnd.jupyter.widget-view+json": {
       "model_id": "a09482f1c7d24aa8a84e92ec0131a859",
       "version_major": 2,
       "version_minor": 0
      },
      "text/plain": [
       "  0%|          | 0/26421880 [00:00<?, ?it/s]"
      ]
     },
     "metadata": {},
     "output_type": "display_data"
    },
    {
     "name": "stdout",
     "output_type": "stream",
     "text": [
      "Extracting /Users/n.arai/FashionMNIST/raw/train-images-idx3-ubyte.gz to /Users/n.arai/FashionMNIST/raw\n",
      "\n",
      "Downloading http://fashion-mnist.s3-website.eu-central-1.amazonaws.com/train-labels-idx1-ubyte.gz\n",
      "Downloading http://fashion-mnist.s3-website.eu-central-1.amazonaws.com/train-labels-idx1-ubyte.gz to /Users/n.arai/FashionMNIST/raw/train-labels-idx1-ubyte.gz\n"
     ]
    },
    {
     "data": {
      "application/vnd.jupyter.widget-view+json": {
       "model_id": "35f8320557824b259b140019d307eebe",
       "version_major": 2,
       "version_minor": 0
      },
      "text/plain": [
       "  0%|          | 0/29515 [00:00<?, ?it/s]"
      ]
     },
     "metadata": {},
     "output_type": "display_data"
    },
    {
     "name": "stdout",
     "output_type": "stream",
     "text": [
      "Extracting /Users/n.arai/FashionMNIST/raw/train-labels-idx1-ubyte.gz to /Users/n.arai/FashionMNIST/raw\n",
      "\n",
      "Downloading http://fashion-mnist.s3-website.eu-central-1.amazonaws.com/t10k-images-idx3-ubyte.gz\n",
      "Downloading http://fashion-mnist.s3-website.eu-central-1.amazonaws.com/t10k-images-idx3-ubyte.gz to /Users/n.arai/FashionMNIST/raw/t10k-images-idx3-ubyte.gz\n"
     ]
    },
    {
     "data": {
      "application/vnd.jupyter.widget-view+json": {
       "model_id": "f0932706e7ec4660a14e0a466ceecc5f",
       "version_major": 2,
       "version_minor": 0
      },
      "text/plain": [
       "  0%|          | 0/4422102 [00:00<?, ?it/s]"
      ]
     },
     "metadata": {},
     "output_type": "display_data"
    },
    {
     "name": "stdout",
     "output_type": "stream",
     "text": [
      "Extracting /Users/n.arai/FashionMNIST/raw/t10k-images-idx3-ubyte.gz to /Users/n.arai/FashionMNIST/raw\n",
      "\n",
      "Downloading http://fashion-mnist.s3-website.eu-central-1.amazonaws.com/t10k-labels-idx1-ubyte.gz\n",
      "Downloading http://fashion-mnist.s3-website.eu-central-1.amazonaws.com/t10k-labels-idx1-ubyte.gz to /Users/n.arai/FashionMNIST/raw/t10k-labels-idx1-ubyte.gz\n"
     ]
    },
    {
     "data": {
      "application/vnd.jupyter.widget-view+json": {
       "model_id": "f8d6c54ff0e54183a9923f2f6a5f3065",
       "version_major": 2,
       "version_minor": 0
      },
      "text/plain": [
       "  0%|          | 0/5148 [00:00<?, ?it/s]"
      ]
     },
     "metadata": {},
     "output_type": "display_data"
    },
    {
     "name": "stdout",
     "output_type": "stream",
     "text": [
      "Extracting /Users/n.arai/FashionMNIST/raw/t10k-labels-idx1-ubyte.gz to /Users/n.arai/FashionMNIST/raw\n",
      "\n"
     ]
    },
    {
     "data": {
      "text/plain": [
       "Dataset FashionMNIST\n",
       "    Number of datapoints: 60000\n",
       "    Root location: /Users/n.arai\n",
       "    Split: Train\n",
       "    StandardTransform\n",
       "Transform: True"
      ]
     },
     "execution_count": 12,
     "metadata": {},
     "output_type": "execute_result"
    }
   ],
   "source": [
    "torchvision.datasets.FashionMNIST(root, train=True, transform=None, download=False)"
   ]
  },
  {
   "cell_type": "code",
   "execution_count": 14,
   "id": "0d5503c7",
   "metadata": {},
   "outputs": [
    {
     "name": "stdout",
     "output_type": "stream",
     "text": [
      "Downloading http://fashion-mnist.s3-website.eu-central-1.amazonaws.com/train-images-idx3-ubyte.gz\n",
      "Downloading http://fashion-mnist.s3-website.eu-central-1.amazonaws.com/train-images-idx3-ubyte.gz to dataset/FashionMNIST/raw/train-images-idx3-ubyte.gz\n"
     ]
    },
    {
     "data": {
      "application/vnd.jupyter.widget-view+json": {
       "model_id": "a9545d4f3eb042de93bfe506de9a4c33",
       "version_major": 2,
       "version_minor": 0
      },
      "text/plain": [
       "  0%|          | 0/26421880 [00:00<?, ?it/s]"
      ]
     },
     "metadata": {},
     "output_type": "display_data"
    },
    {
     "name": "stdout",
     "output_type": "stream",
     "text": [
      "Extracting dataset/FashionMNIST/raw/train-images-idx3-ubyte.gz to dataset/FashionMNIST/raw\n",
      "\n",
      "Downloading http://fashion-mnist.s3-website.eu-central-1.amazonaws.com/train-labels-idx1-ubyte.gz\n",
      "Downloading http://fashion-mnist.s3-website.eu-central-1.amazonaws.com/train-labels-idx1-ubyte.gz to dataset/FashionMNIST/raw/train-labels-idx1-ubyte.gz\n"
     ]
    },
    {
     "data": {
      "application/vnd.jupyter.widget-view+json": {
       "model_id": "006d0f62c7aa457d873dc876eb2e5d23",
       "version_major": 2,
       "version_minor": 0
      },
      "text/plain": [
       "  0%|          | 0/29515 [00:00<?, ?it/s]"
      ]
     },
     "metadata": {},
     "output_type": "display_data"
    },
    {
     "name": "stdout",
     "output_type": "stream",
     "text": [
      "Extracting dataset/FashionMNIST/raw/train-labels-idx1-ubyte.gz to dataset/FashionMNIST/raw\n",
      "\n",
      "Downloading http://fashion-mnist.s3-website.eu-central-1.amazonaws.com/t10k-images-idx3-ubyte.gz\n",
      "Downloading http://fashion-mnist.s3-website.eu-central-1.amazonaws.com/t10k-images-idx3-ubyte.gz to dataset/FashionMNIST/raw/t10k-images-idx3-ubyte.gz\n"
     ]
    },
    {
     "data": {
      "application/vnd.jupyter.widget-view+json": {
       "model_id": "404439005dcc476198c37bbb42bcdb97",
       "version_major": 2,
       "version_minor": 0
      },
      "text/plain": [
       "  0%|          | 0/4422102 [00:00<?, ?it/s]"
      ]
     },
     "metadata": {},
     "output_type": "display_data"
    },
    {
     "name": "stdout",
     "output_type": "stream",
     "text": [
      "Extracting dataset/FashionMNIST/raw/t10k-images-idx3-ubyte.gz to dataset/FashionMNIST/raw\n",
      "\n",
      "Downloading http://fashion-mnist.s3-website.eu-central-1.amazonaws.com/t10k-labels-idx1-ubyte.gz\n",
      "Downloading http://fashion-mnist.s3-website.eu-central-1.amazonaws.com/t10k-labels-idx1-ubyte.gz to dataset/FashionMNIST/raw/t10k-labels-idx1-ubyte.gz\n"
     ]
    },
    {
     "data": {
      "application/vnd.jupyter.widget-view+json": {
       "model_id": "e745cb8f5bd34c429ca1859b8414a60d",
       "version_major": 2,
       "version_minor": 0
      },
      "text/plain": [
       "  0%|          | 0/5148 [00:00<?, ?it/s]"
      ]
     },
     "metadata": {},
     "output_type": "display_data"
    },
    {
     "name": "stdout",
     "output_type": "stream",
     "text": [
      "Extracting dataset/FashionMNIST/raw/t10k-labels-idx1-ubyte.gz to dataset/FashionMNIST/raw\n",
      "\n",
      "Downloading http://fashion-mnist.s3-website.eu-central-1.amazonaws.com/train-images-idx3-ubyte.gz\n",
      "Downloading http://fashion-mnist.s3-website.eu-central-1.amazonaws.com/train-images-idx3-ubyte.gz to datasets/FashionMNIST/raw/train-images-idx3-ubyte.gz\n"
     ]
    },
    {
     "data": {
      "application/vnd.jupyter.widget-view+json": {
       "model_id": "fe44f09cc62c48bdab4acf1df221ba93",
       "version_major": 2,
       "version_minor": 0
      },
      "text/plain": [
       "  0%|          | 0/26421880 [00:00<?, ?it/s]"
      ]
     },
     "metadata": {},
     "output_type": "display_data"
    },
    {
     "name": "stdout",
     "output_type": "stream",
     "text": [
      "Extracting datasets/FashionMNIST/raw/train-images-idx3-ubyte.gz to datasets/FashionMNIST/raw\n",
      "\n",
      "Downloading http://fashion-mnist.s3-website.eu-central-1.amazonaws.com/train-labels-idx1-ubyte.gz\n",
      "Downloading http://fashion-mnist.s3-website.eu-central-1.amazonaws.com/train-labels-idx1-ubyte.gz to datasets/FashionMNIST/raw/train-labels-idx1-ubyte.gz\n"
     ]
    },
    {
     "data": {
      "application/vnd.jupyter.widget-view+json": {
       "model_id": "4303370882584ded973da899d72164c4",
       "version_major": 2,
       "version_minor": 0
      },
      "text/plain": [
       "  0%|          | 0/29515 [00:00<?, ?it/s]"
      ]
     },
     "metadata": {},
     "output_type": "display_data"
    },
    {
     "name": "stdout",
     "output_type": "stream",
     "text": [
      "Extracting datasets/FashionMNIST/raw/train-labels-idx1-ubyte.gz to datasets/FashionMNIST/raw\n",
      "\n",
      "Downloading http://fashion-mnist.s3-website.eu-central-1.amazonaws.com/t10k-images-idx3-ubyte.gz\n",
      "Downloading http://fashion-mnist.s3-website.eu-central-1.amazonaws.com/t10k-images-idx3-ubyte.gz to datasets/FashionMNIST/raw/t10k-images-idx3-ubyte.gz\n"
     ]
    },
    {
     "data": {
      "application/vnd.jupyter.widget-view+json": {
       "model_id": "3ed1ba202bdc474b80e7e5d0feb4df0c",
       "version_major": 2,
       "version_minor": 0
      },
      "text/plain": [
       "  0%|          | 0/4422102 [00:00<?, ?it/s]"
      ]
     },
     "metadata": {},
     "output_type": "display_data"
    },
    {
     "name": "stdout",
     "output_type": "stream",
     "text": [
      "Extracting datasets/FashionMNIST/raw/t10k-images-idx3-ubyte.gz to datasets/FashionMNIST/raw\n",
      "\n",
      "Downloading http://fashion-mnist.s3-website.eu-central-1.amazonaws.com/t10k-labels-idx1-ubyte.gz\n",
      "Downloading http://fashion-mnist.s3-website.eu-central-1.amazonaws.com/t10k-labels-idx1-ubyte.gz to datasets/FashionMNIST/raw/t10k-labels-idx1-ubyte.gz\n"
     ]
    },
    {
     "data": {
      "application/vnd.jupyter.widget-view+json": {
       "model_id": "86aa127bc87c417f90590385907d8fe0",
       "version_major": 2,
       "version_minor": 0
      },
      "text/plain": [
       "  0%|          | 0/5148 [00:00<?, ?it/s]"
      ]
     },
     "metadata": {},
     "output_type": "display_data"
    },
    {
     "name": "stdout",
     "output_type": "stream",
     "text": [
      "Extracting datasets/FashionMNIST/raw/t10k-labels-idx1-ubyte.gz to datasets/FashionMNIST/raw\n",
      "\n"
     ]
    }
   ],
   "source": [
    "data_transform = transforms.ToTensor()\n",
    "\n",
    "train_dataset = datasets.FashionMNIST(root=\"dataset\", train=True, transform=data_transform, download=True)\n",
    "\n",
    "train_data_loader = torch.utils.data.DataLoader(train_dataset, batch_size=32,shuffle=True)\n",
    "\n",
    "test_dataset = datasets.FashionMNIST(root=\"datasets\", train=False, transform=data_transform,download=True)\n",
    "\n",
    "test_data_loader = torch.utils.data.DataLoader(test_dataset, batch_size=32,shuffle=True)"
   ]
  },
  {
   "cell_type": "code",
   "execution_count": 26,
   "id": "ffe4091e",
   "metadata": {},
   "outputs": [
    {
     "data": {
      "image/png": "[encoded data removed]",
      "text/plain": [
       "<Figure size 720x288 with 10 Axes>"
      ]
     },
     "metadata": {
      "needs_background": "light"
     },
     "output_type": "display_data"
    }
   ],
   "source": [
    "class_ids, sample_indices = np.unique(train_dataset.targets, return_index=True)\n",
    "\n",
    "fig = plt.figure(figsize=(10, 4))\n",
    "fig.suptitle(\"Fashion-MNIST dataset\", fontsize=\"x-large\")\n",
    "\n",
    "for i in class_ids:\n",
    "    img = train_dataset.data[sample_indices[i]]\n",
    "    class_name = train_dataset.classes[i]\n",
    "\n",
    "    ax = fig.add_subplot(2, 5, i + 1)\n",
    "    ax.set_title(f\"{i}: {class_name}\")\n",
    "    ax.set_axis_off()\n",
    "    ax.imshow(img, cmap=\"gray\")\n",
    "\n",
    "plt.show()"
   ]
  },
  {
   "cell_type": "code",
   "execution_count": 41,
   "id": "7673bc2d",
   "metadata": {},
   "outputs": [
    {
     "name": "stdout",
     "output_type": "stream",
     "text": [
      "T-shirt/top               6000     Trouser                   6000     Pullover                  6000     \n",
      "Dress                     6000     Coat                      6000     Sandal                    6000     \n",
      "Shirt                     6000     Sneaker                   6000     Bag                       6000     \n",
      "Ankle boot                6000     "
     ]
    }
   ],
   "source": [
    "#クラスに対して画像が何枚あるか可視化->偏りなし\n",
    "counts = np.bincount(train_dataset.targets)\n",
    "for i, (count, name) in enumerate(zip(counts, train_dataset.classes)):\n",
    "    print(\"{0:25} {1:3}\".format(name, count), end='     ')\n",
    "    if (i + 1) % 3 == 0:\n",
    "        print()"
   ]
  },
  {
   "cell_type": "code",
   "execution_count": 58,
   "id": "1c95761f",
   "metadata": {},
   "outputs": [],
   "source": [
    "class FashionMNIST_Model(nn.Module):\n",
    "    def __init__(self):\n",
    "        super().__init__()\n",
    "        self.features = nn.Sequential(\n",
    "            nn.Conv2d(1, 32, kernel_size=3, padding=1),\n",
    "            nn.ReLU(),\n",
    "            nn.MaxPool2d(kernel_size=2),\n",
    "            nn.Conv2d(32, 64, kernel_size=3, padding=1),\n",
    "            nn.ReLU(),\n",
    "            nn.MaxPool2d(kernel_size=2)\n",
    "        )\n",
    "        \n",
    "        self.classifier = nn.Sequential(\n",
    "            nn.Dropout(),\n",
    "            nn.Linear(64 * 7 * 7, 128),\n",
    "            nn.ReLU(),\n",
    "            nn.Dropout(),\n",
    "            nn.Linear(128, 10),\n",
    "        nn.LogSoftmax(dim=1))\n",
    "        \n",
    "    def forward(self, x):\n",
    "        x  = self.features(x)\n",
    "        x =  torch.flatten(x, 1)\n",
    "        x = self.classifier(x)\n",
    "            \n",
    "        return x"
   ]
  },
  {
   "cell_type": "code",
   "execution_count": 59,
   "id": "447483a7",
   "metadata": {},
   "outputs": [],
   "source": [
    "nll_loss = nn.NLLLoss()"
   ]
  },
  {
   "cell_type": "code",
   "execution_count": 60,
   "id": "c970df08",
   "metadata": {},
   "outputs": [],
   "source": [
    "device = torch.device(\"cuda\" if torch.cuda.is_available() else \"cpu\")\n",
    "model = FashionMNIST_Model().to(device)"
   ]
  },
  {
   "cell_type": "code",
   "execution_count": 61,
   "id": "12bc1bf3",
   "metadata": {},
   "outputs": [],
   "source": [
    "optim = torch.optim.Adam(model.parameters())"
   ]
  },
  {
   "cell_type": "code",
   "execution_count": 80,
   "id": "694d82f5",
   "metadata": {},
   "outputs": [],
   "source": [
    "def train(model, device, data_loader, optim):\n",
    "    model.train()\n",
    "    \n",
    "    total_loss = 0\n",
    "    total_correct = 0\n",
    "    for data, target in data_loader:\n",
    "        data, target = data.to(device), target.to(device)\n",
    "        \n",
    "        output = model(data)\n",
    "        \n",
    "        loss = nll_loss(output, target)\n",
    "        total_loss += float(loss)\n",
    "        \n",
    "        optim.zero_grad()\n",
    "        loss.backward()\n",
    "        \n",
    "        optim.step()\n",
    "        \n",
    "        pred_target = output.argmax(dim=1)\n",
    "        \n",
    "        total_correct += int((pred_target == target).sum())\n",
    "        \n",
    "    avg_loss = total_loss / len(data_loader.dataset)\n",
    "    accuracy = total_correct / len(data_loader.dataset)\n",
    "    \n",
    "    return avg_loss, accuracy"
   ]
  },
  {
   "cell_type": "code",
   "execution_count": 83,
   "id": "8ae9b596",
   "metadata": {},
   "outputs": [],
   "source": [
    "def test(model, device, data_loader):\n",
    "    model.eval()\n",
    "    \n",
    "    with torch.no_grad():\n",
    "        total_loss = 0\n",
    "        total_correct = 0\n",
    "        for data, target in data_loader:\n",
    "            data, target = data.to(device), target.to(device)\n",
    "            \n",
    "            output = model(data)\n",
    "            \n",
    "            loss = nll_loss(output, target)\n",
    "            total_loss += float(loss)\n",
    "            \n",
    "            pred_target = output.argmax(dim=1)\n",
    "            \n",
    "            total_correct += int((pred_target == target).sum())\n",
    "            \n",
    "            avg_loss = total_loss / len(data_loader.dataset)\n",
    "            accuracy = total_correct / len(data_loader.dataset)\n",
    "            \n",
    "    return avg_loss, accuracy"
   ]
  },
  {
   "cell_type": "code",
   "execution_count": 85,
   "id": "bb950d86",
   "metadata": {},
   "outputs": [
    {
     "name": "stdout",
     "output_type": "stream",
     "text": [
      "epoch 1 [train] loss: 0.010725, accuracy: 87% [test] loss: 0.008836, accuracy: 90%\n",
      "epoch 2 [train] loss: 0.009902, accuracy: 88% [test] loss: 0.008570, accuracy: 90%\n",
      "epoch 3 [train] loss: 0.009328, accuracy: 89% [test] loss: 0.008276, accuracy: 90%\n",
      "epoch 4 [train] loss: 0.008797, accuracy: 90% [test] loss: 0.008328, accuracy: 90%\n",
      "epoch 5 [train] loss: 0.008518, accuracy: 90% [test] loss: 0.007557, accuracy: 91%\n",
      "epoch 6 [train] loss: 0.008092, accuracy: 91% [test] loss: 0.007461, accuracy: 91%\n",
      "epoch 7 [train] loss: 0.007977, accuracy: 91% [test] loss: 0.007265, accuracy: 91%\n",
      "epoch 8 [train] loss: 0.007676, accuracy: 91% [test] loss: 0.007208, accuracy: 92%\n",
      "epoch 9 [train] loss: 0.007517, accuracy: 91% [test] loss: 0.007829, accuracy: 91%\n",
      "epoch 10 [train] loss: 0.007361, accuracy: 91% [test] loss: 0.007224, accuracy: 92%\n",
      "epoch 11 [train] loss: 0.007291, accuracy: 91% [test] loss: 0.007014, accuracy: 92%\n",
      "epoch 12 [train] loss: 0.007145, accuracy: 92% [test] loss: 0.007264, accuracy: 92%\n",
      "epoch 13 [train] loss: 0.007053, accuracy: 92% [test] loss: 0.006934, accuracy: 92%\n",
      "epoch 14 [train] loss: 0.006982, accuracy: 92% [test] loss: 0.007019, accuracy: 92%\n",
      "epoch 15 [train] loss: 0.006724, accuracy: 92% [test] loss: 0.007082, accuracy: 92%\n",
      "epoch 16 [train] loss: 0.006803, accuracy: 92% [test] loss: 0.007507, accuracy: 91%\n",
      "epoch 17 [train] loss: 0.006657, accuracy: 92% [test] loss: 0.007464, accuracy: 91%\n",
      "epoch 18 [train] loss: 0.006554, accuracy: 92% [test] loss: 0.006951, accuracy: 92%\n",
      "epoch 19 [train] loss: 0.006586, accuracy: 92% [test] loss: 0.006807, accuracy: 92%\n",
      "epoch 20 [train] loss: 0.006498, accuracy: 92% [test] loss: 0.007421, accuracy: 92%\n",
      "epoch 21 [train] loss: 0.006294, accuracy: 92% [test] loss: 0.007835, accuracy: 91%\n",
      "epoch 22 [train] loss: 0.006288, accuracy: 92% [test] loss: 0.006890, accuracy: 92%\n",
      "epoch 23 [train] loss: 0.006309, accuracy: 92% [test] loss: 0.006764, accuracy: 92%\n",
      "epoch 24 [train] loss: 0.006200, accuracy: 93% [test] loss: 0.006986, accuracy: 92%\n",
      "epoch 25 [train] loss: 0.006124, accuracy: 93% [test] loss: 0.007048, accuracy: 92%\n",
      "epoch 26 [train] loss: 0.006166, accuracy: 93% [test] loss: 0.006954, accuracy: 93%\n",
      "epoch 27 [train] loss: 0.006080, accuracy: 93% [test] loss: 0.007075, accuracy: 92%\n",
      "epoch 28 [train] loss: 0.006034, accuracy: 93% [test] loss: 0.006940, accuracy: 92%\n",
      "epoch 29 [train] loss: 0.005922, accuracy: 93% [test] loss: 0.007202, accuracy: 92%\n",
      "epoch 30 [train] loss: 0.005855, accuracy: 93% [test] loss: 0.006981, accuracy: 93%\n",
      "epoch 31 [train] loss: 0.005900, accuracy: 93% [test] loss: 0.007117, accuracy: 92%\n",
      "epoch 32 [train] loss: 0.005878, accuracy: 93% [test] loss: 0.007040, accuracy: 92%\n",
      "epoch 33 [train] loss: 0.005733, accuracy: 93% [test] loss: 0.007083, accuracy: 93%\n",
      "epoch 34 [train] loss: 0.005762, accuracy: 93% [test] loss: 0.007143, accuracy: 92%\n",
      "epoch 35 [train] loss: 0.005777, accuracy: 93% [test] loss: 0.007073, accuracy: 92%\n",
      "epoch 36 [train] loss: 0.005747, accuracy: 93% [test] loss: 0.007073, accuracy: 92%\n",
      "epoch 37 [train] loss: 0.005625, accuracy: 93% [test] loss: 0.006851, accuracy: 93%\n",
      "epoch 38 [train] loss: 0.005546, accuracy: 93% [test] loss: 0.006808, accuracy: 93%\n",
      "epoch 39 [train] loss: 0.005589, accuracy: 93% [test] loss: 0.007122, accuracy: 92%\n",
      "epoch 40 [train] loss: 0.005514, accuracy: 93% [test] loss: 0.006953, accuracy: 92%\n",
      "epoch 41 [train] loss: 0.005572, accuracy: 93% [test] loss: 0.006744, accuracy: 93%\n",
      "epoch 42 [train] loss: 0.005494, accuracy: 93% [test] loss: 0.006871, accuracy: 93%\n",
      "epoch 43 [train] loss: 0.005503, accuracy: 93% [test] loss: 0.006967, accuracy: 93%\n",
      "epoch 44 [train] loss: 0.005497, accuracy: 93% [test] loss: 0.006993, accuracy: 93%\n",
      "epoch 45 [train] loss: 0.005446, accuracy: 93% [test] loss: 0.006991, accuracy: 93%\n",
      "epoch 46 [train] loss: 0.005447, accuracy: 93% [test] loss: 0.006904, accuracy: 93%\n",
      "epoch 47 [train] loss: 0.005362, accuracy: 94% [test] loss: 0.007129, accuracy: 92%\n",
      "epoch 48 [train] loss: 0.005362, accuracy: 94% [test] loss: 0.007022, accuracy: 93%\n",
      "epoch 49 [train] loss: 0.005360, accuracy: 94% [test] loss: 0.007208, accuracy: 93%\n",
      "epoch 50 [train] loss: 0.005288, accuracy: 94% [test] loss: 0.007134, accuracy: 93%\n"
     ]
    }
   ],
   "source": [
    "n_epochs = 50\n",
    "\n",
    "history = defaultdict(list)\n",
    "for epoch in range(n_epochs):\n",
    "    train_loss, train_accuracy = train(model, device, train_data_loader, optim)\n",
    "    history[\"train_loss\"].append(train_loss)\n",
    "    history[\"train_accuracy\"].append(train_accuracy)\n",
    "    \n",
    "    test_loss, test_accuracy = test(model, device, test_data_loader)\n",
    "    history[\"test_loss\"].append(test_loss)\n",
    "    history[\"test_accuracy\"].append(test_accuracy)\n",
    "    \n",
    "    print(\n",
    "        f\"epoch {epoch + 1} \"\n",
    "        f\"[train] loss: {train_loss:.6f}, accuracy: {train_accuracy:.0%} \"\n",
    "        f\"[test] loss: {test_loss:.6f}, accuracy: {test_accuracy:.0%}\"\n",
    "    )"
   ]
  },
  {
   "cell_type": "code",
   "execution_count": null,
   "id": "e8978fbd",
   "metadata": {},
   "outputs": [],
   "source": []
  }
 ],
 "metadata": {
  "kernelspec": {
   "display_name": "Python 3 (ipykernel)",
   "language": "python",
   "name": "python3"
  },
  "language_info": {
   "codemirror_mode": {
    "name": "ipython",
    "version": 3
   },
   "file_extension": ".py",
   "mimetype": "text/x-python",
   "name": "python",
   "nbconvert_exporter": "python",
   "pygments_lexer": "ipython3",
   "version": "3.9.7"
  }
 },
 "nbformat": 4,
 "nbformat_minor": 5
}
