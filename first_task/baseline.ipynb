{
 "cells": [
  {
   "cell_type": "code",
   "execution_count": 1,
   "id": "0ad6ed1d",
   "metadata": {},
   "outputs": [
    {
     "name": "stderr",
     "output_type": "stream",
     "text": [
      "Using TensorFlow backend.\n"
     ]
    }
   ],
   "source": [
    "import keras\n",
    "import keras.backend as K\n",
    "import tensorflow as tf\n",
    "from keras.models import Sequential\n",
    "from keras.layers import Conv2D, MaxPooling2D\n",
    "from keras.layers import Activation, Dropout, Flatten, Dense\n",
    "from keras.utils import np_utils\n",
    "import numpy as np\n",
    "from sklearn.model_selection import train_test_split"
   ]
  },
  {
   "cell_type": "code",
   "execution_count": 2,
   "id": "7c79ddee",
   "metadata": {},
   "outputs": [],
   "source": [
    "num_classes = 10\n",
    "img_rows, img_cols = 28, 28\n",
    "image_size = 28"
   ]
  },
  {
   "cell_type": "code",
   "execution_count": 3,
   "id": "2dcc4f4e",
   "metadata": {},
   "outputs": [],
   "source": [
    "def load_data():    \n",
    "    fashion_mnist = tf.keras.datasets.fashion_mnist\n",
    "    (x_train, y_train), (x_test, y_test) = fashion_mnist.load_data()\n",
    "\n",
    "    if K.image_data_format() == 'channels_first':\n",
    "        x_train = x_train.reshape(x_train.shape[0], 1, img_rows, img_cols)\n",
    "        x_test = x_test .reshape(x_test.shape[0], 1, img_rows, img_cols)\n",
    "        input_shape = (1, img_rows, img_cols)\n",
    "    else:\n",
    "        x_train = x_train.reshape(x_train.shape[0], img_rows, img_cols, 1)\n",
    "        x_test = x_test.reshape(x_test.shape[0], img_rows, img_cols, 1)\n",
    "        input_shape = (img_rows, img_cols, 1)\n",
    "    \n",
    "    x_train = x_train.astype('float32')\n",
    "    x_test = x_test.astype('float32')\n",
    "    x_train /= 255\n",
    "    x_test /=255\n",
    "    \n",
    "    y_train = keras.utils.to_categorical(y_train, num_classes)\n",
    "    y_test = keras.utils.to_categorical(y_test, num_classes)\n",
    "    \n",
    "    return x_train,  x_test, y_train, y_test"
   ]
  },
  {
   "cell_type": "code",
   "execution_count": 4,
   "id": "6804753e",
   "metadata": {},
   "outputs": [],
   "source": [
    "def plot_history(history):\n",
    "    # 精度の履歴をプロット\n",
    "    plt.plot(history.history['acc'],\"o-\",label=\"accuracy\")\n",
    "    plt.plot(history.history['val_acc'],\"o-\",label=\"val_acc\")\n",
    "    plt.title('model accuracy')\n",
    "    plt.xlabel('epoch')\n",
    "    plt.ylabel('accuracy')\n",
    "    plt.legend(loc=\"lower right\")\n",
    "    plt.show()\n",
    " \n",
    "    # 損失の履歴をプロット\n",
    "    plt.plot(history.history['loss'],\"o-\",label=\"loss\",)\n",
    "    plt.plot(history.history['val_loss'],\"o-\",label=\"val_loss\")\n",
    "    plt.title('model loss')\n",
    "    plt.xlabel('epoch')\n",
    "    plt.ylabel('loss')\n",
    "    plt.legend(loc='lower right')\n",
    "    plt.show()"
   ]
  },
  {
   "cell_type": "code",
   "execution_count": 5,
   "id": "dc39252b",
   "metadata": {},
   "outputs": [],
   "source": [
    "def create_model():\n",
    "    \n",
    "    model = Sequential()\n",
    "    model.add(Conv2D(16, (3, 3), padding='same', input_shape=(image_size, image_size, 1)))\n",
    "    model.add(Activation('relu'))\n",
    "\n",
    "    model.add(Conv2D(32, (3, 3), padding='same'))\n",
    "    model.add(Activation('relu'))\n",
    "        \n",
    "    model.add(MaxPooling2D(pool_size=(2, 2)))\n",
    "    model.add(Dropout(0.5))\n",
    "    \n",
    "    model.add(Flatten())\n",
    "    \n",
    "    model.add(Dense(32))\n",
    "    model.add(Activation('relu'))\n",
    "    model.add(Dense(10))\n",
    "    model.add(Activation('softmax'))\n",
    "    \n",
    "    model.compile(loss='categorical_crossentropy', optimizer='sgd', metrics=['accuracy'])\n",
    "    \n",
    "    return model"
   ]
  },
  {
   "cell_type": "code",
   "execution_count": 6,
   "id": "ae51fa04",
   "metadata": {},
   "outputs": [
    {
     "name": "stderr",
     "output_type": "stream",
     "text": [
      "2021-12-08 07:45:25.396125: I tensorflow/core/platform/cpu_feature_guard.cc:145] This TensorFlow binary is optimized with Intel(R) MKL-DNN to use the following CPU instructions in performance critical operations:  SSE4.1 SSE4.2\n",
      "To enable them in non-MKL-DNN operations, rebuild TensorFlow with the appropriate compiler flags.\n",
      "2021-12-08 07:45:25.396864: I tensorflow/core/common_runtime/process_util.cc:115] Creating new thread pool with default inter op setting: 8. Tune using inter_op_parallelism_threads for best performance.\n"
     ]
    },
    {
     "name": "stdout",
     "output_type": "stream",
     "text": [
      "Train on 60000 samples, validate on 10000 samples\n",
      "Epoch 1/50\n",
      "60000/60000 [==============================] - 150s 3ms/step - loss: 1.0736 - accuracy: 0.6206 - val_loss: 0.6657 - val_accuracy: 0.7524\n",
      "Epoch 2/50\n",
      "60000/60000 [==============================] - 151s 3ms/step - loss: 0.6481 - accuracy: 0.7635 - val_loss: 0.5596 - val_accuracy: 0.7977\n",
      "Epoch 3/50\n",
      "60000/60000 [==============================] - 151s 3ms/step - loss: 0.5775 - accuracy: 0.7896 - val_loss: 0.5149 - val_accuracy: 0.8147\n",
      "Epoch 4/50\n",
      "60000/60000 [==============================] - 151s 3ms/step - loss: 0.5282 - accuracy: 0.8084 - val_loss: 0.4823 - val_accuracy: 0.8285\n",
      "Epoch 5/50\n",
      "60000/60000 [==============================] - 151s 3ms/step - loss: 0.4919 - accuracy: 0.8238 - val_loss: 0.4508 - val_accuracy: 0.8444\n",
      "Epoch 6/50\n",
      "60000/60000 [==============================] - 151s 3ms/step - loss: 0.4640 - accuracy: 0.8348 - val_loss: 0.4350 - val_accuracy: 0.8460\n",
      "Epoch 7/50\n",
      "60000/60000 [==============================] - 151s 3ms/step - loss: 0.4402 - accuracy: 0.8429 - val_loss: 0.4138 - val_accuracy: 0.8542\n",
      "Epoch 8/50\n",
      "60000/60000 [==============================] - 149s 2ms/step - loss: 0.4201 - accuracy: 0.8507 - val_loss: 0.4150 - val_accuracy: 0.8543\n",
      "Epoch 9/50\n",
      "60000/60000 [==============================] - 151s 3ms/step - loss: 0.4070 - accuracy: 0.8560 - val_loss: 0.4016 - val_accuracy: 0.8595\n",
      "Epoch 10/50\n",
      "60000/60000 [==============================] - 152s 3ms/step - loss: 0.3919 - accuracy: 0.8615 - val_loss: 0.3856 - val_accuracy: 0.8620\n",
      "Epoch 11/50\n",
      "60000/60000 [==============================] - 150s 3ms/step - loss: 0.3834 - accuracy: 0.8645 - val_loss: 0.3667 - val_accuracy: 0.8716\n",
      "Epoch 12/50\n",
      "60000/60000 [==============================] - 151s 3ms/step - loss: 0.3730 - accuracy: 0.8672 - val_loss: 0.3591 - val_accuracy: 0.8743\n",
      "Epoch 13/50\n",
      "60000/60000 [==============================] - 151s 3ms/step - loss: 0.3651 - accuracy: 0.8714 - val_loss: 0.3739 - val_accuracy: 0.8623\n",
      "Epoch 14/50\n",
      "60000/60000 [==============================] - 151s 3ms/step - loss: 0.3563 - accuracy: 0.8746 - val_loss: 0.3501 - val_accuracy: 0.8733\n",
      "Epoch 15/50\n",
      "60000/60000 [==============================] - 151s 3ms/step - loss: 0.3501 - accuracy: 0.8756 - val_loss: 0.3452 - val_accuracy: 0.8764\n",
      "Epoch 16/50\n",
      "60000/60000 [==============================] - 148s 2ms/step - loss: 0.3422 - accuracy: 0.8787 - val_loss: 0.3388 - val_accuracy: 0.8790\n",
      "Epoch 17/50\n",
      "60000/60000 [==============================] - 151s 3ms/step - loss: 0.3356 - accuracy: 0.8795 - val_loss: 0.3349 - val_accuracy: 0.8806\n",
      "Epoch 18/50\n",
      "60000/60000 [==============================] - 150s 2ms/step - loss: 0.3340 - accuracy: 0.8810 - val_loss: 0.3304 - val_accuracy: 0.8826\n",
      "Epoch 19/50\n",
      "60000/60000 [==============================] - 150s 3ms/step - loss: 0.3285 - accuracy: 0.8828 - val_loss: 0.3253 - val_accuracy: 0.8817\n",
      "Epoch 20/50\n",
      "60000/60000 [==============================] - 150s 2ms/step - loss: 0.3228 - accuracy: 0.8843 - val_loss: 0.3235 - val_accuracy: 0.8840\n",
      "Epoch 21/50\n",
      "60000/60000 [==============================] - 151s 3ms/step - loss: 0.3197 - accuracy: 0.8863 - val_loss: 0.3243 - val_accuracy: 0.8823\n",
      "Epoch 22/50\n",
      "60000/60000 [==============================] - 150s 3ms/step - loss: 0.3137 - accuracy: 0.8877 - val_loss: 0.3158 - val_accuracy: 0.8855\n",
      "Epoch 23/50\n",
      "60000/60000 [==============================] - 149s 2ms/step - loss: 0.3119 - accuracy: 0.8882 - val_loss: 0.3167 - val_accuracy: 0.8852\n",
      "Epoch 24/50\n",
      "60000/60000 [==============================] - 149s 2ms/step - loss: 0.3077 - accuracy: 0.8905 - val_loss: 0.3078 - val_accuracy: 0.8887\n",
      "Epoch 25/50\n",
      "60000/60000 [==============================] - 150s 2ms/step - loss: 0.3035 - accuracy: 0.8904 - val_loss: 0.3071 - val_accuracy: 0.8904\n",
      "Epoch 26/50\n",
      "60000/60000 [==============================] - 150s 3ms/step - loss: 0.2994 - accuracy: 0.8916 - val_loss: 0.3187 - val_accuracy: 0.8842\n",
      "Epoch 27/50\n",
      "60000/60000 [==============================] - 150s 2ms/step - loss: 0.2982 - accuracy: 0.8926 - val_loss: 0.3047 - val_accuracy: 0.8897\n",
      "Epoch 28/50\n",
      "60000/60000 [==============================] - 149s 2ms/step - loss: 0.2934 - accuracy: 0.8934 - val_loss: 0.3018 - val_accuracy: 0.8910\n",
      "Epoch 29/50\n",
      "60000/60000 [==============================] - 148s 2ms/step - loss: 0.2905 - accuracy: 0.8951 - val_loss: 0.2959 - val_accuracy: 0.8937\n",
      "Epoch 30/50\n",
      "60000/60000 [==============================] - 146s 2ms/step - loss: 0.2869 - accuracy: 0.8961 - val_loss: 0.2990 - val_accuracy: 0.8931\n",
      "Epoch 31/50\n",
      "60000/60000 [==============================] - 147s 2ms/step - loss: 0.2870 - accuracy: 0.8967 - val_loss: 0.2943 - val_accuracy: 0.8926\n",
      "Epoch 32/50\n",
      "60000/60000 [==============================] - 145s 2ms/step - loss: 0.2838 - accuracy: 0.8980 - val_loss: 0.2926 - val_accuracy: 0.8951\n",
      "Epoch 33/50\n",
      "60000/60000 [==============================] - 147s 2ms/step - loss: 0.2806 - accuracy: 0.8991 - val_loss: 0.2938 - val_accuracy: 0.8951\n",
      "Epoch 34/50\n",
      "60000/60000 [==============================] - 146s 2ms/step - loss: 0.2790 - accuracy: 0.8992 - val_loss: 0.2889 - val_accuracy: 0.8970\n",
      "Epoch 35/50\n",
      "60000/60000 [==============================] - 146s 2ms/step - loss: 0.2765 - accuracy: 0.9009 - val_loss: 0.2944 - val_accuracy: 0.8948\n",
      "Epoch 36/50\n",
      "60000/60000 [==============================] - 147s 2ms/step - loss: 0.2748 - accuracy: 0.8999 - val_loss: 0.2902 - val_accuracy: 0.8950\n",
      "Epoch 37/50\n",
      "60000/60000 [==============================] - 147s 2ms/step - loss: 0.2710 - accuracy: 0.9017 - val_loss: 0.2846 - val_accuracy: 0.8989\n",
      "Epoch 38/50\n",
      "60000/60000 [==============================] - 149s 2ms/step - loss: 0.2701 - accuracy: 0.9014 - val_loss: 0.2881 - val_accuracy: 0.8973\n",
      "Epoch 39/50\n",
      "60000/60000 [==============================] - 149s 2ms/step - loss: 0.2685 - accuracy: 0.9020 - val_loss: 0.2805 - val_accuracy: 0.8999\n",
      "Epoch 40/50\n",
      "60000/60000 [==============================] - 150s 2ms/step - loss: 0.2646 - accuracy: 0.9043 - val_loss: 0.2781 - val_accuracy: 0.9013\n",
      "Epoch 41/50\n",
      "60000/60000 [==============================] - 152s 3ms/step - loss: 0.2629 - accuracy: 0.9033 - val_loss: 0.2778 - val_accuracy: 0.8997\n",
      "Epoch 42/50\n",
      "60000/60000 [==============================] - 151s 3ms/step - loss: 0.2606 - accuracy: 0.9058 - val_loss: 0.2758 - val_accuracy: 0.9023\n",
      "Epoch 43/50\n",
      "60000/60000 [==============================] - 150s 2ms/step - loss: 0.2593 - accuracy: 0.9069 - val_loss: 0.2728 - val_accuracy: 0.9005\n",
      "Epoch 44/50\n",
      "60000/60000 [==============================] - 151s 3ms/step - loss: 0.2589 - accuracy: 0.9059 - val_loss: 0.2750 - val_accuracy: 0.8995\n",
      "Epoch 45/50\n",
      "60000/60000 [==============================] - 149s 2ms/step - loss: 0.2555 - accuracy: 0.9075 - val_loss: 0.2724 - val_accuracy: 0.9015\n",
      "Epoch 46/50\n",
      "60000/60000 [==============================] - 149s 2ms/step - loss: 0.2547 - accuracy: 0.9073 - val_loss: 0.2794 - val_accuracy: 0.8965\n",
      "Epoch 47/50\n",
      "60000/60000 [==============================] - 149s 2ms/step - loss: 0.2505 - accuracy: 0.9085 - val_loss: 0.2663 - val_accuracy: 0.9045\n",
      "Epoch 48/50\n",
      "60000/60000 [==============================] - 149s 2ms/step - loss: 0.2493 - accuracy: 0.9083 - val_loss: 0.2674 - val_accuracy: 0.9031\n",
      "Epoch 49/50\n",
      "60000/60000 [==============================] - 150s 3ms/step - loss: 0.2491 - accuracy: 0.9105 - val_loss: 0.2684 - val_accuracy: 0.9033\n",
      "Epoch 50/50\n",
      "60000/60000 [==============================] - 151s 3ms/step - loss: 0.2467 - accuracy: 0.9105 - val_loss: 0.2668 - val_accuracy: 0.9037\n"
     ]
    }
   ],
   "source": [
    "x_train,  x_test, y_train, y_test = load_data()\n",
    "\n",
    "model = create_model()\n",
    "\n",
    "history = model.fit(x_train, y_train,\n",
    "                    batch_size=128,\n",
    "                    epochs=50,\n",
    "                    verbose=1,\n",
    "                    validation_data=(x_test, y_test))"
   ]
  },
  {
   "cell_type": "code",
   "execution_count": 7,
   "id": "0a129f37",
   "metadata": {},
   "outputs": [
    {
     "name": "stdout",
     "output_type": "stream",
     "text": [
      "Model: \"sequential_1\"\n",
      "_________________________________________________________________\n",
      "Layer (type)                 Output Shape              Param #   \n",
      "=================================================================\n",
      "conv2d_1 (Conv2D)            (None, 28, 28, 16)        160       \n",
      "_________________________________________________________________\n",
      "activation_1 (Activation)    (None, 28, 28, 16)        0         \n",
      "_________________________________________________________________\n",
      "conv2d_2 (Conv2D)            (None, 28, 28, 32)        4640      \n",
      "_________________________________________________________________\n",
      "activation_2 (Activation)    (None, 28, 28, 32)        0         \n",
      "_________________________________________________________________\n",
      "max_pooling2d_1 (MaxPooling2 (None, 14, 14, 32)        0         \n",
      "_________________________________________________________________\n",
      "dropout_1 (Dropout)          (None, 14, 14, 32)        0         \n",
      "_________________________________________________________________\n",
      "flatten_1 (Flatten)          (None, 6272)              0         \n",
      "_________________________________________________________________\n",
      "dense_1 (Dense)              (None, 32)                200736    \n",
      "_________________________________________________________________\n",
      "activation_3 (Activation)    (None, 32)                0         \n",
      "_________________________________________________________________\n",
      "dense_2 (Dense)              (None, 10)                330       \n",
      "_________________________________________________________________\n",
      "activation_4 (Activation)    (None, 10)                0         \n",
      "=================================================================\n",
      "Total params: 205,866\n",
      "Trainable params: 205,866\n",
      "Non-trainable params: 0\n",
      "_________________________________________________________________\n"
     ]
    }
   ],
   "source": [
    "model.summary()"
   ]
  },
  {
   "cell_type": "code",
   "execution_count": 8,
   "id": "19088b19",
   "metadata": {},
   "outputs": [
    {
     "data": {
      "image/png": "[encoded data removed]",
      "text/plain": [
       "<Figure size 576x288 with 2 Axes>"
      ]
     },
     "metadata": {
      "needs_background": "light"
     },
     "output_type": "display_data"
    }
   ],
   "source": [
    "import matplotlib.pyplot as plt\n",
    "fig, [axes1, axes2] = plt.subplots(1, 2, figsize=(8, 4))\n",
    "\n",
    "epochs = np.arange(1, len(history.history['loss']) + 1)\n",
    "\n",
    "# 各エポックの誤差の推移\n",
    "axes1.set_title('loss')\n",
    "axes1.plot(epochs, history.history['loss'], label='train')\n",
    "axes1.plot(epochs, history.history['val_loss'], label='validation')\n",
    "axes1.set_xticks(epochs)\n",
    "\n",
    "# 各エポックの精度の推移\n",
    "axes2.set_title('accuracy')\n",
    "axes2.plot(epochs, history.history['accuracy'], label='train')\n",
    "axes2.plot(epochs, history.history['val_accuracy'], label='validation')\n",
    "axes2.set_xticks(epochs)\n",
    "\n",
    "plt.show()"
   ]
  },
  {
   "cell_type": "code",
   "execution_count": 9,
   "id": "b1eb166a",
   "metadata": {},
   "outputs": [
    {
     "name": "stdout",
     "output_type": "stream",
     "text": [
      "\n",
      "Test accuracy: 0.9036999940872192\n"
     ]
    }
   ],
   "source": [
    "test_loss, test_acc = model.evaluate(x_test,  y_test, verbose=2)\n",
    "\n",
    "print('\\nTest accuracy:', test_acc)"
   ]
  },
  {
   "cell_type": "code",
   "execution_count": 11,
   "id": "76d67af0",
   "metadata": {},
   "outputs": [
    {
     "name": "stdout",
     "output_type": "stream",
     "text": [
      "save weights\n"
     ]
    }
   ],
   "source": [
    "import os\n",
    "yaml_string = model.to_yaml()\n",
    "open(os.path.join('opt/app/','baseline.yaml'), 'w').write(yaml_string)\n",
    "print('save weights')\n",
    "model.save_weights(os.path.join('opt/app/','baseline.hdf5'))"
   ]
  },
  {
   "cell_type": "code",
   "execution_count": null,
   "id": "6c45d1cd",
   "metadata": {},
   "outputs": [],
   "source": []
  }
 ],
 "metadata": {
  "kernelspec": {
   "display_name": "Python 3 (ipykernel)",
   "language": "python",
   "name": "python3"
  },
  "language_info": {
   "codemirror_mode": {
    "name": "ipython",
    "version": 3
   },
   "file_extension": ".py",
   "mimetype": "text/x-python",
   "name": "python",
   "nbconvert_exporter": "python",
   "pygments_lexer": "ipython3",
   "version": "3.7.11"
  }
 },
 "nbformat": 4,
 "nbformat_minor": 5
}
