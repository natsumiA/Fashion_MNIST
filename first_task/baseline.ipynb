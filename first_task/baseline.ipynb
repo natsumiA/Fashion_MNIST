{
 "cells": [
  {
   "cell_type": "code",
   "execution_count": 41,
   "id": "aadec6f7",
   "metadata": {},
   "outputs": [],
   "source": [
    "import keras\n",
    "import keras.backend as K\n",
    "import tensorflow as tf\n",
    "from keras.models import Sequential\n",
    "from keras.layers import Conv2D, MaxPooling2D\n",
    "from keras.layers import Activation, Dropout, Flatten, Dense\n",
    "from keras.utils import np_utils\n",
    "import numpy as np\n",
    "from sklearn.model_selection import train_test_split"
   ]
  },
  {
   "cell_type": "code",
   "execution_count": 42,
   "id": "e903748b",
   "metadata": {},
   "outputs": [],
   "source": [
    "num_classes = 10\n",
    "img_rows, img_cols = 28, 28\n",
    "image_size = 28"
   ]
  },
  {
   "cell_type": "code",
   "execution_count": 43,
   "id": "ea71a65f",
   "metadata": {},
   "outputs": [],
   "source": [
    "def load_data():    \n",
    "    fashion_mnist = tf.keras.datasets.fashion_mnist\n",
    "    (x_train, y_train), (x_test, y_test) = fashion_mnist.load_data()\n",
    "\n",
    "    if K.image_data_format() == 'channels_first':\n",
    "        x_train = x_train.reshape(x_train.shape[0], 1, img_rows, img_cols)\n",
    "        x_test = x_test .reshape(x_test.shape[0], 1, img_rows, img_cols)\n",
    "        input_shape = (1, img_rows, img_cols)\n",
    "    else:\n",
    "        x_train = x_train.reshape(x_train.shape[0], img_rows, img_cols, 1)\n",
    "        x_test = x_test.reshape(x_test.shape[0], img_rows, img_cols, 1)\n",
    "        input_shape = (img_rows, img_cols, 1)\n",
    "    \n",
    "    x_train = x_train.astype('float32')\n",
    "    x_test = x_test.astype('float32')\n",
    "    x_train /= 255\n",
    "    x_test /=255\n",
    "    \n",
    "    y_train = keras.utils.to_categorical(y_train, num_classes)\n",
    "    y_test = keras.utils.to_categorical(y_test, num_classes)\n",
    "    \n",
    "    return x_train,  x_test, y_train, y_test"
   ]
  },
  {
   "cell_type": "code",
   "execution_count": 44,
   "id": "5ff959af",
   "metadata": {},
   "outputs": [],
   "source": [
    "def plot_history(history):\n",
    "    # 精度の履歴をプロット\n",
    "    plt.plot(history.history['acc'],\"o-\",label=\"accuracy\")\n",
    "    plt.plot(history.history['val_acc'],\"o-\",label=\"val_acc\")\n",
    "    plt.title('model accuracy')\n",
    "    plt.xlabel('epoch')\n",
    "    plt.ylabel('accuracy')\n",
    "    plt.legend(loc=\"lower right\")\n",
    "    plt.show()\n",
    " \n",
    "    # 損失の履歴をプロット\n",
    "    plt.plot(history.history['loss'],\"o-\",label=\"loss\",)\n",
    "    plt.plot(history.history['val_loss'],\"o-\",label=\"val_loss\")\n",
    "    plt.title('model loss')\n",
    "    plt.xlabel('epoch')\n",
    "    plt.ylabel('loss')\n",
    "    plt.legend(loc='lower right')\n",
    "    plt.show()"
   ]
  },
  {
   "cell_type": "code",
   "execution_count": 45,
   "id": "c61480d4",
   "metadata": {},
   "outputs": [],
   "source": [
    "def create_model():\n",
    "    \n",
    "    model = Sequential()\n",
    "    model.add(Conv2D(16, (3, 3), padding='same', input_shape=(image_size, image_size, 1)))\n",
    "    model.add(Activation('relu'))\n",
    "\n",
    "    model.add(Conv2D(32, (3, 3), padding='same'))\n",
    "    model.add(Activation('relu'))\n",
    "        \n",
    "    model.add(MaxPooling2D(pool_size=(2, 2)))\n",
    "    model.add(Dropout(0.5))\n",
    "    \n",
    "    model.add(Flatten())\n",
    "    \n",
    "    model.add(Dense(32))\n",
    "    model.add(Activation('relu'))\n",
    "    model.add(Dense(10))\n",
    "    model.add(Activation('softmax'))\n",
    "    \n",
    "    model.compile(loss='categorical_crossentropy', optimizer='sgd', metrics=['accuracy'])\n",
    "    \n",
    "    return model"
   ]
  },
  {
   "cell_type": "code",
   "execution_count": 46,
   "id": "00ca6c95",
   "metadata": {},
   "outputs": [
    {
     "name": "stdout",
     "output_type": "stream",
     "text": [
      "Train on 60000 samples, validate on 10000 samples\n",
      "Epoch 1/50\n",
      "60000/60000 [==============================] - 140s 2ms/step - loss: 1.2440 - accuracy: 0.5658 - val_loss: 0.6774 - val_accuracy: 0.7686\n",
      "Epoch 2/50\n",
      "60000/60000 [==============================] - 138s 2ms/step - loss: 0.6812 - accuracy: 0.7554 - val_loss: 0.6565 - val_accuracy: 0.7687\n",
      "Epoch 3/50\n",
      "60000/60000 [==============================] - 138s 2ms/step - loss: 0.5907 - accuracy: 0.7851 - val_loss: 0.5286 - val_accuracy: 0.8144\n",
      "Epoch 4/50\n",
      "60000/60000 [==============================] - 140s 2ms/step - loss: 0.5412 - accuracy: 0.8058 - val_loss: 0.4898 - val_accuracy: 0.8250\n",
      "Epoch 5/50\n",
      "60000/60000 [==============================] - 140s 2ms/step - loss: 0.4998 - accuracy: 0.8226 - val_loss: 0.4748 - val_accuracy: 0.8270\n",
      "Epoch 6/50\n",
      "60000/60000 [==============================] - 260s 4ms/step - loss: 0.4714 - accuracy: 0.8327 - val_loss: 0.4416 - val_accuracy: 0.8447\n",
      "Epoch 7/50\n",
      "60000/60000 [==============================] - 138s 2ms/step - loss: 0.4497 - accuracy: 0.8408 - val_loss: 0.4295 - val_accuracy: 0.8474\n",
      "Epoch 8/50\n",
      "60000/60000 [==============================] - 139s 2ms/step - loss: 0.4284 - accuracy: 0.8484 - val_loss: 0.4163 - val_accuracy: 0.8523\n",
      "Epoch 9/50\n",
      "60000/60000 [==============================] - 139s 2ms/step - loss: 0.4160 - accuracy: 0.8531 - val_loss: 0.3963 - val_accuracy: 0.8630\n",
      "Epoch 10/50\n",
      "60000/60000 [==============================] - 140s 2ms/step - loss: 0.3999 - accuracy: 0.8585 - val_loss: 0.3892 - val_accuracy: 0.8660\n",
      "Epoch 11/50\n",
      "60000/60000 [==============================] - 141s 2ms/step - loss: 0.3899 - accuracy: 0.8625 - val_loss: 0.3746 - val_accuracy: 0.8699\n",
      "Epoch 12/50\n",
      "60000/60000 [==============================] - 141s 2ms/step - loss: 0.3811 - accuracy: 0.8650 - val_loss: 0.3707 - val_accuracy: 0.8712\n",
      "Epoch 13/50\n",
      "60000/60000 [==============================] - 140s 2ms/step - loss: 0.3720 - accuracy: 0.8695 - val_loss: 0.3698 - val_accuracy: 0.8696\n",
      "Epoch 14/50\n",
      "60000/60000 [==============================] - 140s 2ms/step - loss: 0.3637 - accuracy: 0.8716 - val_loss: 0.3575 - val_accuracy: 0.8752\n",
      "Epoch 15/50\n",
      "60000/60000 [==============================] - 140s 2ms/step - loss: 0.3544 - accuracy: 0.8750 - val_loss: 0.3483 - val_accuracy: 0.8761\n",
      "Epoch 16/50\n",
      "60000/60000 [==============================] - 141s 2ms/step - loss: 0.3495 - accuracy: 0.8759 - val_loss: 0.3419 - val_accuracy: 0.8800\n",
      "Epoch 17/50\n",
      "60000/60000 [==============================] - 141s 2ms/step - loss: 0.3457 - accuracy: 0.8778 - val_loss: 0.3440 - val_accuracy: 0.8783\n",
      "Epoch 18/50\n",
      "60000/60000 [==============================] - 141s 2ms/step - loss: 0.3394 - accuracy: 0.8806 - val_loss: 0.3354 - val_accuracy: 0.8822\n",
      "Epoch 19/50\n",
      "60000/60000 [==============================] - 141s 2ms/step - loss: 0.3351 - accuracy: 0.8813 - val_loss: 0.3328 - val_accuracy: 0.8814\n",
      "Epoch 20/50\n",
      "60000/60000 [==============================] - 141s 2ms/step - loss: 0.3317 - accuracy: 0.8830 - val_loss: 0.3351 - val_accuracy: 0.8784\n",
      "Epoch 21/50\n",
      "60000/60000 [==============================] - 143s 2ms/step - loss: 0.3261 - accuracy: 0.8849 - val_loss: 0.3266 - val_accuracy: 0.8820\n",
      "Epoch 22/50\n",
      "60000/60000 [==============================] - 141s 2ms/step - loss: 0.3199 - accuracy: 0.8867 - val_loss: 0.3219 - val_accuracy: 0.8851\n",
      "Epoch 23/50\n",
      "60000/60000 [==============================] - 141s 2ms/step - loss: 0.3174 - accuracy: 0.8868 - val_loss: 0.3197 - val_accuracy: 0.8874\n",
      "Epoch 24/50\n",
      "60000/60000 [==============================] - 142s 2ms/step - loss: 0.3157 - accuracy: 0.8876 - val_loss: 0.3182 - val_accuracy: 0.8859\n",
      "Epoch 25/50\n",
      "60000/60000 [==============================] - 141s 2ms/step - loss: 0.3128 - accuracy: 0.8895 - val_loss: 0.3163 - val_accuracy: 0.8888\n",
      "Epoch 26/50\n",
      "60000/60000 [==============================] - 141s 2ms/step - loss: 0.3061 - accuracy: 0.8920 - val_loss: 0.3102 - val_accuracy: 0.8875\n",
      "Epoch 27/50\n",
      "60000/60000 [==============================] - 144s 2ms/step - loss: 0.3043 - accuracy: 0.8924 - val_loss: 0.3088 - val_accuracy: 0.8903\n",
      "Epoch 28/50\n",
      "60000/60000 [==============================] - 140s 2ms/step - loss: 0.3018 - accuracy: 0.8921 - val_loss: 0.3044 - val_accuracy: 0.8911\n",
      "Epoch 29/50\n",
      "60000/60000 [==============================] - 140s 2ms/step - loss: 0.3004 - accuracy: 0.8925 - val_loss: 0.3051 - val_accuracy: 0.8877\n",
      "Epoch 30/50\n",
      "60000/60000 [==============================] - 140s 2ms/step - loss: 0.2969 - accuracy: 0.8938 - val_loss: 0.2999 - val_accuracy: 0.8929\n",
      "Epoch 31/50\n",
      "60000/60000 [==============================] - 142s 2ms/step - loss: 0.2960 - accuracy: 0.8944 - val_loss: 0.3058 - val_accuracy: 0.8912\n",
      "Epoch 32/50\n",
      "60000/60000 [==============================] - 140s 2ms/step - loss: 0.2925 - accuracy: 0.8954 - val_loss: 0.2986 - val_accuracy: 0.8922\n",
      "Epoch 33/50\n",
      "60000/60000 [==============================] - 142s 2ms/step - loss: 0.2887 - accuracy: 0.8970 - val_loss: 0.2973 - val_accuracy: 0.8916\n",
      "Epoch 34/50\n",
      "60000/60000 [==============================] - 142s 2ms/step - loss: 0.2870 - accuracy: 0.8976 - val_loss: 0.3075 - val_accuracy: 0.8913\n",
      "Epoch 35/50\n",
      "60000/60000 [==============================] - 142s 2ms/step - loss: 0.2840 - accuracy: 0.8986 - val_loss: 0.2949 - val_accuracy: 0.8931\n",
      "Epoch 36/50\n",
      "60000/60000 [==============================] - 143s 2ms/step - loss: 0.2830 - accuracy: 0.8976 - val_loss: 0.2959 - val_accuracy: 0.8920\n",
      "Epoch 37/50\n",
      "60000/60000 [==============================] - 141s 2ms/step - loss: 0.2823 - accuracy: 0.8986 - val_loss: 0.2925 - val_accuracy: 0.8924\n",
      "Epoch 38/50\n",
      "60000/60000 [==============================] - 141s 2ms/step - loss: 0.2780 - accuracy: 0.9000 - val_loss: 0.2858 - val_accuracy: 0.8986\n",
      "Epoch 39/50\n",
      "60000/60000 [==============================] - 139s 2ms/step - loss: 0.2771 - accuracy: 0.9008 - val_loss: 0.2906 - val_accuracy: 0.8961\n",
      "Epoch 40/50\n",
      "60000/60000 [==============================] - 140s 2ms/step - loss: 0.2744 - accuracy: 0.9018 - val_loss: 0.2878 - val_accuracy: 0.8926\n",
      "Epoch 41/50\n",
      "60000/60000 [==============================] - 139s 2ms/step - loss: 0.2723 - accuracy: 0.9029 - val_loss: 0.2895 - val_accuracy: 0.8950\n",
      "Epoch 42/50\n",
      "60000/60000 [==============================] - 138s 2ms/step - loss: 0.2695 - accuracy: 0.9037 - val_loss: 0.2792 - val_accuracy: 0.8998\n",
      "Epoch 43/50\n",
      "60000/60000 [==============================] - 139s 2ms/step - loss: 0.2705 - accuracy: 0.9036 - val_loss: 0.2828 - val_accuracy: 0.8964\n",
      "Epoch 44/50\n",
      "60000/60000 [==============================] - 139s 2ms/step - loss: 0.2668 - accuracy: 0.9042 - val_loss: 0.2795 - val_accuracy: 0.8986\n",
      "Epoch 45/50\n",
      "60000/60000 [==============================] - 139s 2ms/step - loss: 0.2642 - accuracy: 0.9056 - val_loss: 0.2769 - val_accuracy: 0.8985\n",
      "Epoch 46/50\n",
      "60000/60000 [==============================] - 140s 2ms/step - loss: 0.2622 - accuracy: 0.9056 - val_loss: 0.2780 - val_accuracy: 0.9005\n",
      "Epoch 47/50\n",
      "60000/60000 [==============================] - 140s 2ms/step - loss: 0.2593 - accuracy: 0.9063 - val_loss: 0.2759 - val_accuracy: 0.9017\n",
      "Epoch 48/50\n",
      "60000/60000 [==============================] - 139s 2ms/step - loss: 0.2586 - accuracy: 0.9068 - val_loss: 0.2735 - val_accuracy: 0.9015\n",
      "Epoch 49/50\n",
      "60000/60000 [==============================] - 146s 2ms/step - loss: 0.2560 - accuracy: 0.9069 - val_loss: 0.2781 - val_accuracy: 0.8988\n",
      "Epoch 50/50\n",
      "60000/60000 [==============================] - 141s 2ms/step - loss: 0.2569 - accuracy: 0.9075 - val_loss: 0.2743 - val_accuracy: 0.9027\n"
     ]
    }
   ],
   "source": [
    "x_train,  x_test, y_train, y_test = load_data()\n",
    "\n",
    "model = create_model()\n",
    "\n",
    "history = model.fit(x_train, y_train,\n",
    "                    batch_size=128,\n",
    "                    epochs=50,\n",
    "                    verbose=1,\n",
    "                    validation_data=(x_test, y_test))"
   ]
  },
  {
   "cell_type": "code",
   "execution_count": 47,
   "id": "d6dc8109",
   "metadata": {},
   "outputs": [
    {
     "ename": "KeyError",
     "evalue": "'acc'",
     "output_type": "error",
     "traceback": [
      "\u001b[0;31m---------------------------------------------------------------------------\u001b[0m",
      "\u001b[0;31mKeyError\u001b[0m                                  Traceback (most recent call last)",
      "\u001b[0;32m/var/folders/p9/5why2nc51w79qyz3t1m_0x080000gp/T/ipykernel_62356/1703789770.py\u001b[0m in \u001b[0;36m<module>\u001b[0;34m\u001b[0m\n\u001b[0;32m----> 1\u001b[0;31m \u001b[0mplot_history\u001b[0m\u001b[0;34m(\u001b[0m\u001b[0mhistory\u001b[0m\u001b[0;34m)\u001b[0m\u001b[0;34m\u001b[0m\u001b[0;34m\u001b[0m\u001b[0m\n\u001b[0m",
      "\u001b[0;32m/var/folders/p9/5why2nc51w79qyz3t1m_0x080000gp/T/ipykernel_62356/2806507061.py\u001b[0m in \u001b[0;36mplot_history\u001b[0;34m(history)\u001b[0m\n\u001b[1;32m      1\u001b[0m \u001b[0;32mdef\u001b[0m \u001b[0mplot_history\u001b[0m\u001b[0;34m(\u001b[0m\u001b[0mhistory\u001b[0m\u001b[0;34m)\u001b[0m\u001b[0;34m:\u001b[0m\u001b[0;34m\u001b[0m\u001b[0;34m\u001b[0m\u001b[0m\n\u001b[1;32m      2\u001b[0m     \u001b[0;31m# 精度の履歴をプロット\u001b[0m\u001b[0;34m\u001b[0m\u001b[0;34m\u001b[0m\u001b[0;34m\u001b[0m\u001b[0m\n\u001b[0;32m----> 3\u001b[0;31m     \u001b[0mplt\u001b[0m\u001b[0;34m.\u001b[0m\u001b[0mplot\u001b[0m\u001b[0;34m(\u001b[0m\u001b[0mhistory\u001b[0m\u001b[0;34m.\u001b[0m\u001b[0mhistory\u001b[0m\u001b[0;34m[\u001b[0m\u001b[0;34m'acc'\u001b[0m\u001b[0;34m]\u001b[0m\u001b[0;34m,\u001b[0m\u001b[0;34m\"o-\"\u001b[0m\u001b[0;34m,\u001b[0m\u001b[0mlabel\u001b[0m\u001b[0;34m=\u001b[0m\u001b[0;34m\"accuracy\"\u001b[0m\u001b[0;34m)\u001b[0m\u001b[0;34m\u001b[0m\u001b[0;34m\u001b[0m\u001b[0m\n\u001b[0m\u001b[1;32m      4\u001b[0m     \u001b[0mplt\u001b[0m\u001b[0;34m.\u001b[0m\u001b[0mplot\u001b[0m\u001b[0;34m(\u001b[0m\u001b[0mhistory\u001b[0m\u001b[0;34m.\u001b[0m\u001b[0mhistory\u001b[0m\u001b[0;34m[\u001b[0m\u001b[0;34m'val_acc'\u001b[0m\u001b[0;34m]\u001b[0m\u001b[0;34m,\u001b[0m\u001b[0;34m\"o-\"\u001b[0m\u001b[0;34m,\u001b[0m\u001b[0mlabel\u001b[0m\u001b[0;34m=\u001b[0m\u001b[0;34m\"val_acc\"\u001b[0m\u001b[0;34m)\u001b[0m\u001b[0;34m\u001b[0m\u001b[0;34m\u001b[0m\u001b[0m\n\u001b[1;32m      5\u001b[0m     \u001b[0mplt\u001b[0m\u001b[0;34m.\u001b[0m\u001b[0mtitle\u001b[0m\u001b[0;34m(\u001b[0m\u001b[0;34m'model accuracy'\u001b[0m\u001b[0;34m)\u001b[0m\u001b[0;34m\u001b[0m\u001b[0;34m\u001b[0m\u001b[0m\n",
      "\u001b[0;31mKeyError\u001b[0m: 'acc'"
     ]
    }
   ],
   "source": [
    "plot_history(history)"
   ]
  },
  {
   "cell_type": "code",
   "execution_count": 59,
   "id": "590130a5",
   "metadata": {},
   "outputs": [
    {
     "data": {
      "image/png": "[encoded data removed]",
      "text/plain": [
       "<Figure size 576x288 with 2 Axes>"
      ]
     },
     "metadata": {
      "needs_background": "light"
     },
     "output_type": "display_data"
    }
   ],
   "source": [
    "import matplotlib.pyplot as plt\n",
    "fig, [axes1, axes2] = plt.subplots(1, 2, figsize=(8, 4))\n",
    "\n",
    "epochs = np.arange(1, len(history.history['loss']) + 1)\n",
    "\n",
    "# 各エポックの誤差の推移\n",
    "axes1.set_title('loss')\n",
    "axes1.plot(epochs, history.history['loss'], label='train')\n",
    "axes1.plot(epochs, history.history['val_loss'], label='validation')\n",
    "axes1.set_xticks(epochs)\n",
    "\n",
    "# 各エポックの精度の推移\n",
    "axes2.set_title('accuracy')\n",
    "axes2.plot(epochs, history.history['accuracy'], label='train')\n",
    "axes2.plot(epochs, history.history['val_accuracy'], label='validation')\n",
    "axes2.set_xticks(epochs)\n",
    "\n",
    "plt.show()"
   ]
  },
  {
   "cell_type": "code",
   "execution_count": null,
   "id": "83ee515b",
   "metadata": {},
   "outputs": [],
   "source": []
  }
 ],
 "metadata": {
  "kernelspec": {
   "display_name": "Python 3 (ipykernel)",
   "language": "python",
   "name": "python3"
  },
  "language_info": {
   "codemirror_mode": {
    "name": "ipython",
    "version": 3
   },
   "file_extension": ".py",
   "mimetype": "text/x-python",
   "name": "python",
   "nbconvert_exporter": "python",
   "pygments_lexer": "ipython3",
   "version": "3.7.11"
  }
 },
 "nbformat": 4,
 "nbformat_minor": 5
}
