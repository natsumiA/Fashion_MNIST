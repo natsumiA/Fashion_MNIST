{
 "cells": [
  {
   "cell_type": "code",
   "execution_count": 45,
   "id": "f8bca67c",
   "metadata": {},
   "outputs": [],
   "source": [
    "import keras\n",
    "import keras.backend as K\n",
    "import tensorflow as tf\n",
    "from keras.models import Sequential\n",
    "from keras.layers import Conv2D, MaxPooling2D\n",
    "from keras.layers import Activation, Dropout, Flatten, Dense\n",
    "from keras.utils import np_utils\n",
    "import numpy as np\n",
    "from sklearn.model_selection import train_test_split\n",
    "import optuna\n",
    "from datetime import datetime"
   ]
  },
  {
   "cell_type": "code",
   "execution_count": 46,
   "id": "aeb542ab",
   "metadata": {},
   "outputs": [],
   "source": [
    "#メインの関数を定義する\n",
    "def main():\n",
    "    #開始時刻\n",
    "    datetime.now().strftime(\"%Y/%m/%d %H:%M:%S\")\n",
    "    \n",
    "    study = optuna.create_study()\n",
    "    study.optimize(objective, n_trials=100)\n",
    "    \n",
    "    print(study.best_params)\n",
    "    print(study.best_value)\n",
    "    print(study.best_trial)\n",
    "    #終了時刻\n",
    "    datetime.now().strftime(\"%Y/%m/%d %H:%M:%S\")"
   ]
  },
  {
   "cell_type": "code",
   "execution_count": 47,
   "id": "f817e795",
   "metadata": {},
   "outputs": [],
   "source": [
    "num_classes = 10\n",
    "img_rows, img_cols = 28, 28\n",
    "image_size = 28"
   ]
  },
  {
   "cell_type": "code",
   "execution_count": 48,
   "id": "63ae9af0",
   "metadata": {},
   "outputs": [],
   "source": [
    "def load_data():    \n",
    "    fashion_mnist = tf.keras.datasets.fashion_mnist\n",
    "    (x_train, y_train), (x_test, y_test) = fashion_mnist.load_data()\n",
    "\n",
    "    if K.image_data_format() == 'channels_first':\n",
    "        x_train = x_train.reshape(x_train.shape[0], 1, img_rows, img_cols)\n",
    "        x_test = x_test .reshape(x_test.shape[0], 1, img_rows, img_cols)\n",
    "        input_shape = (1, img_rows, img_cols)\n",
    "    else:\n",
    "        x_train = x_train.reshape(x_train.shape[0], img_rows, img_cols, 1)\n",
    "        x_test = x_test.reshape(x_test.shape[0], img_rows, img_cols, 1)\n",
    "        input_shape = (img_rows, img_cols, 1)\n",
    "    \n",
    "    x_train = x_train.astype('float32')\n",
    "    x_test = x_test.astype('float32')\n",
    "    x_train /= 255\n",
    "    x_test /=255\n",
    "    \n",
    "    y_train = keras.utils.to_categorical(y_train, num_classes)\n",
    "    y_test = keras.utils.to_categorical(y_test, num_classes)\n",
    "    \n",
    "    return x_train,  x_test, y_train, y_test"
   ]
  },
  {
   "cell_type": "code",
   "execution_count": 49,
   "id": "535974a9",
   "metadata": {},
   "outputs": [],
   "source": [
    "def create_model(num_layer, activation, mid_units, num_filters, dropout_rate):\n",
    "    \"\"\"\n",
    "    num_layer : 畳込み層の数\n",
    "    activation : 活性化関数\n",
    "    mid_units : FC層のユニット数\n",
    "    num_filters : 各畳込み層のフィルタ数\n",
    "    dropout_rate : 入力ユニットをドロップする割合\n",
    "    \"\"\"\n",
    "    \n",
    "    model = Sequential()\n",
    "    model.add(Conv2D(num_filters[0], (3, 3), padding='same', input_shape=(image_size, image_size, 1)))\n",
    "    model.add(Activation(activation))\n",
    "    \n",
    "    for i in range(1, num_layer):\n",
    "        model.add(Conv2D(num_filters[i], (3, 3), padding='same'))\n",
    "        model.add(Activation(activation))\n",
    "        \n",
    "    model.add(MaxPooling2D(pool_size=(2, 2)))\n",
    "    model.add(Dropout(dropout_rate))\n",
    "    \n",
    "    model.add(Flatten())\n",
    "    \n",
    "    model.add(Dense(mid_units))\n",
    "    model.add(Activation(activation))\n",
    "    model.add(Dense(10))\n",
    "    model.add(Activation('softmax'))\n",
    "    \n",
    "    return model\n"
   ]
  },
  {
   "cell_type": "code",
   "execution_count": 50,
   "id": "6ca069bf",
   "metadata": {},
   "outputs": [],
   "source": [
    "def objective(trial):\n",
    "    #セッションのクリア\n",
    "    K.clear_session()\n",
    "    \n",
    "    #データ読み込み\n",
    "    x_train,  x_test, y_train, y_test = load_data()\n",
    "    \n",
    "    #最適化するパラメータの設定\n",
    "    #畳込み層の数\n",
    "    num_layer = trial.suggest_int(\"num_layer\", 3, 5)\n",
    "    \n",
    "    #FC層のユニット数\n",
    "    mid_units = int(trial.suggest_discrete_uniform(\"mid_units\", 300, 500, 10))\n",
    "    \n",
    "    #各畳込み層のフィルタ数\n",
    "    num_filters = [int(trial.suggest_discrete_uniform(\"num_filter_\"+str(i), 16, 128, 16)) for i in range(num_layer)]\n",
    "    \n",
    "    #活性化関数\n",
    "    activation = trial.suggest_categorical(\"activation\", [\"relu\", \"sigmoid\"])\n",
    "    \n",
    "    #optimizer\n",
    "    optimizer = trial.suggest_categorical(\"optimizer\", [\"sgd\", \"adam\", \"rmsprop\"])\n",
    "    \n",
    "    #Dropout\n",
    "    dropout_rate = trial.suggest_uniform('dropout_rate', 0.0, 1.0)\n",
    "    \n",
    "    #学習率\n",
    "    learning_rate = trial.suggest_loguniform(\"learning_rate\", 1e-7, 1e0)\n",
    "    model = create_model(num_layer, activation, mid_units, num_filters, dropout_rate)\n",
    "    \n",
    "    if optimizer == \"sgd\":\n",
    "        opt = keras.optimizers.SGD(learning_rate)\n",
    "    elif optimizer == \"adam\":\n",
    "        opt = keras.optimizers.adam(learning_rate)\n",
    "    elif optimizer == \"rmsprop\":\n",
    "        opt = keras.optimizers.rmsprop(learning_rate)\n",
    "    \n",
    "    model.compile(loss='categorical_crossentropy', \n",
    "                  optimizer=opt, metrics=['accuracy'])\n",
    "    \n",
    "    history = model.fit(x_train, y_train, \n",
    "                        batch_size=32, \n",
    "                        epochs=10)"
   ]
  },
  {
   "cell_type": "code",
   "execution_count": null,
   "id": "04da5860",
   "metadata": {},
   "outputs": [
    {
     "name": "stderr",
     "output_type": "stream",
     "text": [
      "\u001b[32m[I 2021-12-03 16:06:44,734]\u001b[0m A new study created in memory with name: no-name-f3252394-38c9-4fb5-b0c4-5ba719d94690\u001b[0m\n"
     ]
    },
    {
     "name": "stdout",
     "output_type": "stream",
     "text": [
      "Epoch 1/10\n",
      "60000/60000 [==============================] - 471s 8ms/step - loss: 2.3035 - accuracy: 0.0933\n",
      "Epoch 2/10\n",
      "60000/60000 [==============================] - 433s 7ms/step - loss: 2.3009 - accuracy: 0.1298\n",
      "Epoch 3/10\n",
      "60000/60000 [==============================] - 436s 7ms/step - loss: 2.2985 - accuracy: 0.1654\n",
      "Epoch 4/10\n",
      "60000/60000 [==============================] - 437s 7ms/step - loss: 2.2959 - accuracy: 0.1968\n",
      "Epoch 5/10\n",
      "60000/60000 [==============================] - 437s 7ms/step - loss: 2.2931 - accuracy: 0.2250\n",
      "Epoch 6/10\n",
      "60000/60000 [==============================] - 435s 7ms/step - loss: 2.2897 - accuracy: 0.2453\n",
      "Epoch 7/10\n",
      "60000/60000 [==============================] - 6197s 103ms/step - loss: 2.2856 - accuracy: 0.2652\n",
      "Epoch 8/10\n",
      "60000/60000 [==============================] - 429s 7ms/step - loss: 2.2804 - accuracy: 0.2760\n",
      "Epoch 9/10\n",
      "60000/60000 [==============================] - 426s 7ms/step - loss: 2.2733 - accuracy: 0.2842\n",
      "Epoch 10/10\n",
      "60000/60000 [==============================] - 433s 7ms/step - loss: 2.2634 - accuracy: 0.2941\n"
     ]
    },
    {
     "name": "stderr",
     "output_type": "stream",
     "text": [
      "\u001b[33m[W 2021-12-03 18:55:39,428]\u001b[0m Trial 0 failed, because the value None could not be cast to float.\u001b[0m\n"
     ]
    },
    {
     "name": "stdout",
     "output_type": "stream",
     "text": [
      "Epoch 1/10\n",
      "60000/60000 [==============================] - 1173s 20ms/step - loss: 0.6427 - accuracy: 0.7669\n",
      "Epoch 2/10\n",
      "60000/60000 [==============================] - 1180s 20ms/step - loss: 0.3820 - accuracy: 0.8623\n",
      "Epoch 3/10\n",
      "60000/60000 [==============================] - 1184s 20ms/step - loss: 0.3309 - accuracy: 0.8788\n",
      "Epoch 4/10\n",
      "60000/60000 [==============================] - 1182s 20ms/step - loss: 0.2985 - accuracy: 0.8908\n",
      "Epoch 5/10\n",
      "60000/60000 [==============================] - 1248s 21ms/step - loss: 0.2722 - accuracy: 0.8998\n",
      "Epoch 6/10\n",
      "60000/60000 [==============================] - 2622s 44ms/step - loss: 0.2516 - accuracy: 0.9064\n",
      "Epoch 7/10\n",
      "60000/60000 [==============================] - 1335s 22ms/step - loss: 0.2356 - accuracy: 0.9130\n",
      "Epoch 8/10\n",
      "60000/60000 [==============================] - 1339s 22ms/step - loss: 0.2185 - accuracy: 0.9191\n",
      "Epoch 9/10\n",
      "60000/60000 [==============================] - 1344s 22ms/step - loss: 0.2020 - accuracy: 0.9250\n",
      "Epoch 10/10\n",
      "60000/60000 [==============================] - 1361s 23ms/step - loss: 0.1892 - accuracy: 0.9303\n"
     ]
    },
    {
     "name": "stderr",
     "output_type": "stream",
     "text": [
      "\u001b[33m[W 2021-12-03 22:48:27,190]\u001b[0m Trial 1 failed, because the value None could not be cast to float.\u001b[0m\n"
     ]
    },
    {
     "name": "stdout",
     "output_type": "stream",
     "text": [
      "Epoch 1/10\n",
      "60000/60000 [==============================] - 2176s 36ms/step - loss: 2.3811 - accuracy: 0.1002\n",
      "Epoch 2/10\n",
      "60000/60000 [==============================] - 2255s 38ms/step - loss: 2.3725 - accuracy: 0.1020\n",
      "Epoch 3/10\n",
      "60000/60000 [==============================] - 2409s 40ms/step - loss: 2.3736 - accuracy: 0.0991\n",
      "Epoch 4/10\n",
      "60000/60000 [==============================] - 2287s 38ms/step - loss: 2.3729 - accuracy: 0.0989\n",
      "Epoch 5/10\n",
      "60000/60000 [==============================] - 2304s 38ms/step - loss: 2.3732 - accuracy: 0.1002\n",
      "Epoch 6/10\n",
      "60000/60000 [==============================] - 2274s 38ms/step - loss: 2.3727 - accuracy: 0.0989\n",
      "Epoch 7/10\n",
      "60000/60000 [==============================] - 2240s 37ms/step - loss: 2.3716 - accuracy: 0.1000\n",
      "Epoch 8/10\n",
      "60000/60000 [==============================] - 2169s 36ms/step - loss: 2.3733 - accuracy: 0.0994\n",
      "Epoch 9/10\n",
      "60000/60000 [==============================] - 2274s 38ms/step - loss: 2.3733 - accuracy: 0.0998\n",
      "Epoch 10/10\n",
      "60000/60000 [==============================] - 2164s 36ms/step - loss: 2.3725 - accuracy: 0.0997\n"
     ]
    },
    {
     "name": "stderr",
     "output_type": "stream",
     "text": [
      "\u001b[33m[W 2021-12-04 05:04:18,569]\u001b[0m Trial 2 failed, because the value None could not be cast to float.\u001b[0m\n"
     ]
    },
    {
     "name": "stdout",
     "output_type": "stream",
     "text": [
      "WARNING:tensorflow:Large dropout rate: 0.839576 (>0.5). In TensorFlow 2.x, dropout() uses dropout rate instead of keep_prob. Please ensure that this is intended.\n",
      "Epoch 1/10\n",
      "60000/60000 [==============================] - 1098s 18ms/step - loss: 0.5872 - accuracy: 0.7901\n",
      "Epoch 2/10\n",
      "60000/60000 [==============================] - 1085s 18ms/step - loss: 0.4068 - accuracy: 0.8553\n",
      "Epoch 3/10\n",
      "60000/60000 [==============================] - 1016s 17ms/step - loss: 0.3625 - accuracy: 0.8715\n",
      "Epoch 4/10\n",
      "60000/60000 [==============================] - 920s 15ms/step - loss: 0.3327 - accuracy: 0.8828\n",
      "Epoch 5/10\n",
      "60000/60000 [==============================] - 849s 14ms/step - loss: 0.3135 - accuracy: 0.8881\n",
      "Epoch 6/10\n",
      "60000/60000 [==============================] - 852s 14ms/step - loss: 0.2974 - accuracy: 0.8936\n",
      "Epoch 7/10\n",
      "60000/60000 [==============================] - 1087s 18ms/step - loss: 0.2854 - accuracy: 0.8988\n",
      "Epoch 8/10\n",
      "60000/60000 [==============================] - 882s 15ms/step - loss: 0.2745 - accuracy: 0.9025\n",
      "Epoch 9/10\n",
      "60000/60000 [==============================] - 1092s 18ms/step - loss: 0.2688 - accuracy: 0.9043\n",
      "Epoch 10/10\n",
      "60000/60000 [==============================] - 1009s 17ms/step - loss: 0.2623 - accuracy: 0.9073\n"
     ]
    },
    {
     "name": "stderr",
     "output_type": "stream",
     "text": [
      "\u001b[33m[W 2021-12-04 07:49:09,534]\u001b[0m Trial 3 failed, because the value None could not be cast to float.\u001b[0m\n"
     ]
    },
    {
     "name": "stdout",
     "output_type": "stream",
     "text": [
      "Epoch 1/10\n",
      "60000/60000 [==============================] - 1221s 20ms/step - loss: 0.3802 - accuracy: 0.8643\n",
      "Epoch 2/10\n",
      "60000/60000 [==============================] - 1157s 19ms/step - loss: 0.2491 - accuracy: 0.9106\n",
      "Epoch 3/10\n",
      "60000/60000 [==============================] - 1107s 18ms/step - loss: 0.2147 - accuracy: 0.9226\n",
      "Epoch 4/10\n",
      "60000/60000 [==============================] - 1022s 17ms/step - loss: 0.1955 - accuracy: 0.9300\n",
      "Epoch 5/10\n",
      "60000/60000 [==============================] - 923s 15ms/step - loss: 0.1854 - accuracy: 0.9347\n",
      "Epoch 6/10\n",
      "60000/60000 [==============================] - 1118s 19ms/step - loss: 0.1756 - accuracy: 0.9390\n",
      "Epoch 7/10\n",
      "60000/60000 [==============================] - 1112s 19ms/step - loss: 0.1696 - accuracy: 0.9413\n",
      "Epoch 8/10\n",
      "60000/60000 [==============================] - 1149s 19ms/step - loss: 0.1646 - accuracy: 0.9435\n",
      "Epoch 9/10\n",
      "60000/60000 [==============================] - 1154s 19ms/step - loss: 0.1600 - accuracy: 0.9454\n",
      "Epoch 10/10\n",
      "60000/60000 [==============================] - 1050s 18ms/step - loss: 0.1595 - accuracy: 0.9459\n"
     ]
    },
    {
     "name": "stderr",
     "output_type": "stream",
     "text": [
      "\u001b[33m[W 2021-12-04 10:52:43,350]\u001b[0m Trial 4 failed, because the value None could not be cast to float.\u001b[0m\n"
     ]
    },
    {
     "name": "stdout",
     "output_type": "stream",
     "text": [
      "WARNING:tensorflow:Large dropout rate: 0.718025 (>0.5). In TensorFlow 2.x, dropout() uses dropout rate instead of keep_prob. Please ensure that this is intended.\n",
      "Epoch 1/10\n",
      "60000/60000 [==============================] - 1467s 24ms/step - loss: 2.3585 - accuracy: 0.0995\n",
      "Epoch 2/10\n",
      "60000/60000 [==============================] - 1427s 24ms/step - loss: 2.3485 - accuracy: 0.1001\n",
      "Epoch 3/10\n",
      "60000/60000 [==============================] - 1410s 24ms/step - loss: 2.3477 - accuracy: 0.1012\n",
      "Epoch 4/10\n",
      "60000/60000 [==============================] - 1470s 25ms/step - loss: 2.3493 - accuracy: 0.0992\n",
      "Epoch 5/10\n",
      "60000/60000 [==============================] - 1196s 20ms/step - loss: 2.3492 - accuracy: 0.0987\n",
      "Epoch 6/10\n",
      "60000/60000 [==============================] - 1135s 19ms/step - loss: 2.3488 - accuracy: 0.0996\n",
      "Epoch 7/10\n",
      "60000/60000 [==============================] - 1132s 19ms/step - loss: 2.3487 - accuracy: 0.0995\n",
      "Epoch 8/10\n",
      "60000/60000 [==============================] - 1663s 28ms/step - loss: 2.3473 - accuracy: 0.1022\n",
      "Epoch 9/10\n",
      "60000/60000 [==============================] - 1539s 26ms/step - loss: 2.3480 - accuracy: 0.1007\n",
      "Epoch 10/10\n",
      "60000/60000 [==============================] - 2663s 44ms/step - loss: 2.3479 - accuracy: 0.1007\n"
     ]
    },
    {
     "name": "stderr",
     "output_type": "stream",
     "text": [
      "\u001b[33m[W 2021-12-04 15:04:26,095]\u001b[0m Trial 5 failed, because the value None could not be cast to float.\u001b[0m\n"
     ]
    },
    {
     "name": "stdout",
     "output_type": "stream",
     "text": [
      "WARNING:tensorflow:Large dropout rate: 0.720565 (>0.5). In TensorFlow 2.x, dropout() uses dropout rate instead of keep_prob. Please ensure that this is intended.\n",
      "Epoch 1/10\n",
      "60000/60000 [==============================] - 2329s 39ms/step - loss: 2.3049 - accuracy: 0.1213\n",
      "Epoch 2/10\n",
      "60000/60000 [==============================] - 2329s 39ms/step - loss: 2.2971 - accuracy: 0.1397\n",
      "Epoch 3/10\n",
      "60000/60000 [==============================] - 2341s 39ms/step - loss: 2.2889 - accuracy: 0.1613\n",
      "Epoch 4/10\n",
      "60000/60000 [==============================] - 2339s 39ms/step - loss: 2.2816 - accuracy: 0.1779\n",
      "Epoch 5/10\n",
      "60000/60000 [==============================] - 2341s 39ms/step - loss: 2.2731 - accuracy: 0.1933\n",
      "Epoch 6/10\n",
      "60000/60000 [==============================] - 1328s 22ms/step - loss: 2.2635 - accuracy: 0.2099\n",
      "Epoch 7/10\n",
      "60000/60000 [==============================] - 2266s 38ms/step - loss: 2.2520 - accuracy: 0.2271\n",
      "Epoch 8/10\n",
      "60000/60000 [==============================] - 2337s 39ms/step - loss: 2.2380 - accuracy: 0.2388\n",
      "Epoch 9/10\n",
      "60000/60000 [==============================] - 2082s 35ms/step - loss: 2.2196 - accuracy: 0.2569\n",
      "Epoch 10/10\n",
      "60000/60000 [==============================] - 1438s 24ms/step - loss: 2.1961 - accuracy: 0.2729\n"
     ]
    },
    {
     "name": "stderr",
     "output_type": "stream",
     "text": [
      "\u001b[33m[W 2021-12-04 20:56:43,261]\u001b[0m Trial 6 failed, because the value None could not be cast to float.\u001b[0m\n"
     ]
    },
    {
     "name": "stdout",
     "output_type": "stream",
     "text": [
      "Epoch 1/10\n",
      "60000/60000 [==============================] - 2882s 48ms/step - loss: 2.6945 - accuracy: 0.0991\n",
      "Epoch 2/10\n",
      "60000/60000 [==============================] - 2615s 44ms/step - loss: 2.6802 - accuracy: 0.0997\n",
      "Epoch 3/10\n",
      "60000/60000 [==============================] - 2668s 44ms/step - loss: 2.6801 - accuracy: 0.1009\n",
      "Epoch 4/10\n",
      "60000/60000 [==============================] - 2850s 48ms/step - loss: 2.6813 - accuracy: 0.0993\n",
      "Epoch 5/10\n",
      "60000/60000 [==============================] - 2613s 44ms/step - loss: 2.6786 - accuracy: 0.1003\n",
      "Epoch 6/10\n",
      "60000/60000 [==============================] - 2604s 43ms/step - loss: 2.6805 - accuracy: 0.0990\n",
      "Epoch 7/10\n",
      "60000/60000 [==============================] - 2609s 43ms/step - loss: 2.6762 - accuracy: 0.1018\n",
      "Epoch 8/10\n",
      "60000/60000 [==============================] - 3499s 58ms/step - loss: 2.6779 - accuracy: 0.1015\n",
      "Epoch 9/10\n",
      "60000/60000 [==============================] - 2365s 39ms/step - loss: 2.6817 - accuracy: 0.0994\n",
      "Epoch 10/10\n",
      "60000/60000 [==============================] - 2520s 42ms/step - loss: 2.6847 - accuracy: 0.0979\n"
     ]
    },
    {
     "name": "stderr",
     "output_type": "stream",
     "text": [
      "\u001b[33m[W 2021-12-05 04:30:34,326]\u001b[0m Trial 7 failed, because the value None could not be cast to float.\u001b[0m\n"
     ]
    },
    {
     "name": "stdout",
     "output_type": "stream",
     "text": [
      "Epoch 1/10\n",
      "60000/60000 [==============================] - 977s 16ms/step - loss: 1.2308 - accuracy: 0.5511\n",
      "Epoch 2/10\n",
      "60000/60000 [==============================] - 964s 16ms/step - loss: 0.7151 - accuracy: 0.7444\n",
      "Epoch 3/10\n",
      "60000/60000 [==============================] - 1015s 17ms/step - loss: 0.6242 - accuracy: 0.7754\n",
      "Epoch 4/10\n",
      "60000/60000 [==============================] - 991s 17ms/step - loss: 0.5640 - accuracy: 0.7955\n",
      "Epoch 5/10\n",
      "60000/60000 [==============================] - 897s 15ms/step - loss: 0.5171 - accuracy: 0.8132\n",
      "Epoch 6/10\n",
      "60000/60000 [==============================] - 988s 16ms/step - loss: 0.4832 - accuracy: 0.8265\n",
      "Epoch 7/10\n",
      "60000/60000 [==============================] - 1029s 17ms/step - loss: 0.4536 - accuracy: 0.8389\n",
      "Epoch 8/10\n",
      "60000/60000 [==============================] - 1023s 17ms/step - loss: 0.4330 - accuracy: 0.8450\n",
      "Epoch 9/10\n",
      "60000/60000 [==============================] - 922s 15ms/step - loss: 0.4199 - accuracy: 0.8491\n",
      "Epoch 10/10\n",
      "60000/60000 [==============================] - 945s 16ms/step - loss: 0.4022 - accuracy: 0.8575\n"
     ]
    },
    {
     "name": "stderr",
     "output_type": "stream",
     "text": [
      "\u001b[33m[W 2021-12-05 07:13:07,764]\u001b[0m Trial 8 failed, because the value None could not be cast to float.\u001b[0m\n"
     ]
    },
    {
     "name": "stdout",
     "output_type": "stream",
     "text": [
      "Epoch 1/10\n",
      "60000/60000 [==============================] - 2799s 47ms/step - loss: 2.3052 - accuracy: 0.0973\n",
      "Epoch 2/10\n",
      "60000/60000 [==============================] - 2833s 47ms/step - loss: 2.3041 - accuracy: 0.1004\n",
      "Epoch 3/10\n",
      "60000/60000 [==============================] - 2876s 48ms/step - loss: 2.3027 - accuracy: 0.1034\n",
      "Epoch 4/10\n",
      "60000/60000 [==============================] - 2821s 47ms/step - loss: 2.3019 - accuracy: 0.1066\n",
      "Epoch 5/10\n",
      "60000/60000 [==============================] - 2715s 45ms/step - loss: 2.3010 - accuracy: 0.1075\n",
      "Epoch 6/10\n",
      "60000/60000 [==============================] - 3043s 51ms/step - loss: 2.3000 - accuracy: 0.1109\n",
      "Epoch 7/10\n",
      "60000/60000 [==============================] - 3026s 50ms/step - loss: 2.2994 - accuracy: 0.1124\n",
      "Epoch 8/10\n",
      "60000/60000 [==============================] - 3110s 52ms/step - loss: 2.2982 - accuracy: 0.1171\n",
      "Epoch 9/10\n",
      "60000/60000 [==============================] - 2886s 48ms/step - loss: 2.2977 - accuracy: 0.1186\n",
      "Epoch 10/10\n",
      "60000/60000 [==============================] - 2646s 44ms/step - loss: 2.2962 - accuracy: 0.1212\n"
     ]
    },
    {
     "name": "stderr",
     "output_type": "stream",
     "text": [
      "\u001b[33m[W 2021-12-05 15:12:24,724]\u001b[0m Trial 9 failed, because the value None could not be cast to float.\u001b[0m\n"
     ]
    },
    {
     "name": "stdout",
     "output_type": "stream",
     "text": [
      "Epoch 1/10\n",
      "60000/60000 [==============================] - 4022s 67ms/step - loss: 0.3992 - accuracy: 0.8526\n",
      "Epoch 2/10\n",
      "60000/60000 [==============================] - 3553s 59ms/step - loss: 0.2699 - accuracy: 0.8998\n",
      "Epoch 3/10\n",
      "60000/60000 [==============================] - 3444s 57ms/step - loss: 0.2305 - accuracy: 0.9142\n",
      "Epoch 4/10\n",
      "60000/60000 [==============================] - 3418s 57ms/step - loss: 0.2057 - accuracy: 0.9227\n",
      "Epoch 5/10\n",
      "60000/60000 [==============================] - 3490s 58ms/step - loss: 0.1869 - accuracy: 0.9303\n",
      "Epoch 6/10\n",
      "60000/60000 [==============================] - 2944s 49ms/step - loss: 0.1732 - accuracy: 0.9358\n",
      "Epoch 7/10\n",
      "60000/60000 [==============================] - 4743s 79ms/step - loss: 0.1613 - accuracy: 0.9399\n",
      "Epoch 8/10\n",
      "60000/60000 [==============================] - 3919s 65ms/step - loss: 0.1494 - accuracy: 0.9439\n",
      "Epoch 9/10\n",
      "60000/60000 [==============================] - 3435s 57ms/step - loss: 0.1420 - accuracy: 0.9475\n",
      "Epoch 10/10\n",
      "60000/60000 [==============================] - 3209s 53ms/step - loss: 0.1324 - accuracy: 0.9505\n"
     ]
    },
    {
     "name": "stderr",
     "output_type": "stream",
     "text": [
      "\u001b[33m[W 2021-12-06 01:15:29,908]\u001b[0m Trial 10 failed, because the value None could not be cast to float.\u001b[0m\n"
     ]
    },
    {
     "name": "stdout",
     "output_type": "stream",
     "text": [
      "Epoch 1/10\n",
      "60000/60000 [==============================] - 1302s 22ms/step - loss: 2.3072 - accuracy: 0.1127\n",
      "Epoch 2/10\n",
      "60000/60000 [==============================] - 1266s 21ms/step - loss: 2.3074 - accuracy: 0.1130\n",
      "Epoch 3/10\n",
      "60000/60000 [==============================] - 1318s 22ms/step - loss: 2.3070 - accuracy: 0.1119\n",
      "Epoch 4/10\n",
      "60000/60000 [==============================] - 1291s 22ms/step - loss: 2.3061 - accuracy: 0.1151\n",
      "Epoch 5/10\n",
      "60000/60000 [==============================] - 1245s 21ms/step - loss: 2.3063 - accuracy: 0.1150\n",
      "Epoch 6/10\n",
      "60000/60000 [==============================] - 1341s 22ms/step - loss: 2.3059 - accuracy: 0.1145\n",
      "Epoch 7/10\n",
      "60000/60000 [==============================] - 1267s 21ms/step - loss: 2.3061 - accuracy: 0.1156\n",
      "Epoch 8/10\n",
      "60000/60000 [==============================] - 1257s 21ms/step - loss: 2.3055 - accuracy: 0.1172\n",
      "Epoch 9/10\n",
      "60000/60000 [==============================] - 1315s 22ms/step - loss: 2.3055 - accuracy: 0.1175\n",
      "Epoch 10/10\n",
      "60000/60000 [==============================] - 1277s 21ms/step - loss: 2.3051 - accuracy: 0.1163\n"
     ]
    },
    {
     "name": "stderr",
     "output_type": "stream",
     "text": [
      "\u001b[33m[W 2021-12-06 04:50:10,527]\u001b[0m Trial 11 failed, because the value None could not be cast to float.\u001b[0m\n"
     ]
    },
    {
     "name": "stdout",
     "output_type": "stream",
     "text": [
      "Epoch 1/10\n",
      "60000/60000 [==============================] - 1159s 19ms/step - loss: 191.9530 - accuracy: 0.0995\n",
      "Epoch 2/10\n",
      "60000/60000 [==============================] - 1170s 20ms/step - loss: 189.6615 - accuracy: 0.0994\n",
      "Epoch 3/10\n",
      "60000/60000 [==============================] - 1075s 18ms/step - loss: 189.2178 - accuracy: 0.1017\n",
      "Epoch 4/10\n",
      "60000/60000 [==============================] - 1102s 18ms/step - loss: 189.1874 - accuracy: 0.1009\n",
      "Epoch 5/10\n",
      "60000/60000 [==============================] - 1194s 20ms/step - loss: 188.5303 - accuracy: 0.0997\n",
      "Epoch 6/10\n",
      "60000/60000 [==============================] - 1152s 19ms/step - loss: 188.7309 - accuracy: 0.0985\n",
      "Epoch 7/10\n",
      "60000/60000 [==============================] - 1104s 18ms/step - loss: 188.8042 - accuracy: 0.0991\n",
      "Epoch 8/10\n",
      "60000/60000 [==============================] - 1195s 20ms/step - loss: 188.5791 - accuracy: 0.1000\n",
      "Epoch 9/10\n",
      "60000/60000 [==============================] - 1155s 19ms/step - loss: 189.1262 - accuracy: 0.0980\n",
      "Epoch 10/10\n",
      "60000/60000 [==============================] - 946s 16ms/step - loss: 189.0705 - accuracy: 0.0997\n"
     ]
    },
    {
     "name": "stderr",
     "output_type": "stream",
     "text": [
      "\u001b[33m[W 2021-12-06 07:57:43,973]\u001b[0m Trial 12 failed, because the value None could not be cast to float.\u001b[0m\n"
     ]
    },
    {
     "name": "stdout",
     "output_type": "stream",
     "text": [
      "Epoch 1/10\n",
      "60000/60000 [==============================] - 2031s 34ms/step - loss: 66572392560225.1719 - accuracy: 0.1010\n",
      "Epoch 2/10\n",
      "60000/60000 [==============================] - 2175s 36ms/step - loss: 2.4188 - accuracy: 0.0990\n",
      "Epoch 3/10\n",
      "60000/60000 [==============================] - 2304s 38ms/step - loss: 2.4156 - accuracy: 0.0998\n",
      "Epoch 4/10\n",
      "24320/60000 [===========>..................] - ETA: 21:59 - loss: 2.4172 - accuracy: 0.0999"
     ]
    }
   ],
   "source": [
    "if __name__ == \"__main__\":\n",
    "    main()"
   ]
  },
  {
   "cell_type": "code",
   "execution_count": null,
   "id": "0ecadde7",
   "metadata": {},
   "outputs": [],
   "source": []
  },
  {
   "cell_type": "code",
   "execution_count": null,
   "id": "3eb87c1d",
   "metadata": {},
   "outputs": [],
   "source": []
  }
 ],
 "metadata": {
  "kernelspec": {
   "display_name": "Python 3 (ipykernel)",
   "language": "python",
   "name": "python3"
  },
  "language_info": {
   "codemirror_mode": {
    "name": "ipython",
    "version": 3
   },
   "file_extension": ".py",
   "mimetype": "text/x-python",
   "name": "python",
   "nbconvert_exporter": "python",
   "pygments_lexer": "ipython3",
   "version": "3.7.11"
  }
 },
 "nbformat": 4,
 "nbformat_minor": 5
}
